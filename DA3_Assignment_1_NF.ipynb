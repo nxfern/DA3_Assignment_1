{
 "cells": [
  {
   "cell_type": "markdown",
   "id": "5924314c-5f68-4251-8d98-62c8f18441a0",
   "metadata": {},
   "source": [
    "# DA3 Assignment 1\n",
    "Nicolas Fernandez"
   ]
  },
  {
   "cell_type": "code",
   "execution_count": 1,
   "id": "aa5e2ee5-3868-4740-9c85-3b84029c78a6",
   "metadata": {
    "tags": []
   },
   "outputs": [],
   "source": [
    "# Importing libraries\n",
    "import warnings\n",
    "warnings.filterwarnings('ignore')\n",
    "\n",
    "import pandas as pd\n",
    "import seaborn as sns\n",
    "import matplotlib.pyplot as plt\n",
    "from mizani.formatters import percent_format\n",
    "import os\n",
    "from plotnine import *\n",
    "import numpy as np\n",
    "import sys\n",
    "import statsmodels.api as sm\n",
    "import statsmodels.formula.api as smf\n",
    "from stargazer import stargazer\n",
    "from statsmodels.tools.eval_measures import mse,rmse\n",
    "import regex as re"
   ]
  },
  {
   "cell_type": "code",
   "execution_count": 2,
   "id": "826a70c0-ed51-48c8-90b9-a7c7ee67c0ee",
   "metadata": {
    "tags": []
   },
   "outputs": [
    {
     "name": "stdout",
     "output_type": "stream",
     "text": [
      "(149316, 23)\n"
     ]
    },
    {
     "data": {
      "text/html": [
       "<div>\n",
       "<style scoped>\n",
       "    .dataframe tbody tr th:only-of-type {\n",
       "        vertical-align: middle;\n",
       "    }\n",
       "\n",
       "    .dataframe tbody tr th {\n",
       "        vertical-align: top;\n",
       "    }\n",
       "\n",
       "    .dataframe thead th {\n",
       "        text-align: right;\n",
       "    }\n",
       "</style>\n",
       "<table border=\"1\" class=\"dataframe\">\n",
       "  <thead>\n",
       "    <tr style=\"text-align: right;\">\n",
       "      <th></th>\n",
       "      <th>Unnamed: 0</th>\n",
       "      <th>hhid</th>\n",
       "      <th>intmonth</th>\n",
       "      <th>stfips</th>\n",
       "      <th>weight</th>\n",
       "      <th>earnwke</th>\n",
       "      <th>uhours</th>\n",
       "      <th>grade92</th>\n",
       "      <th>race</th>\n",
       "      <th>ethnic</th>\n",
       "      <th>...</th>\n",
       "      <th>ownchild</th>\n",
       "      <th>chldpres</th>\n",
       "      <th>prcitshp</th>\n",
       "      <th>state</th>\n",
       "      <th>ind02</th>\n",
       "      <th>occ2012</th>\n",
       "      <th>class</th>\n",
       "      <th>unionmme</th>\n",
       "      <th>unioncov</th>\n",
       "      <th>lfsr94</th>\n",
       "    </tr>\n",
       "  </thead>\n",
       "  <tbody>\n",
       "    <tr>\n",
       "      <th>0</th>\n",
       "      <td>3</td>\n",
       "      <td>2600310997690</td>\n",
       "      <td>January</td>\n",
       "      <td>AL</td>\n",
       "      <td>3151.6801</td>\n",
       "      <td>1692.00</td>\n",
       "      <td>40</td>\n",
       "      <td>43</td>\n",
       "      <td>1</td>\n",
       "      <td>NaN</td>\n",
       "      <td>...</td>\n",
       "      <td>0</td>\n",
       "      <td>0</td>\n",
       "      <td>Native, Born In US</td>\n",
       "      <td>63</td>\n",
       "      <td>Employment services (5613)</td>\n",
       "      <td>630</td>\n",
       "      <td>Private, For Profit</td>\n",
       "      <td>No</td>\n",
       "      <td>No</td>\n",
       "      <td>Employed-At Work</td>\n",
       "    </tr>\n",
       "    <tr>\n",
       "      <th>1</th>\n",
       "      <td>5</td>\n",
       "      <td>75680310997590</td>\n",
       "      <td>January</td>\n",
       "      <td>AL</td>\n",
       "      <td>3457.1138</td>\n",
       "      <td>450.00</td>\n",
       "      <td>40</td>\n",
       "      <td>41</td>\n",
       "      <td>2</td>\n",
       "      <td>NaN</td>\n",
       "      <td>...</td>\n",
       "      <td>2</td>\n",
       "      <td>6</td>\n",
       "      <td>Native, Born In US</td>\n",
       "      <td>63</td>\n",
       "      <td>Outpatient care centers (6214)</td>\n",
       "      <td>5400</td>\n",
       "      <td>Private, For Profit</td>\n",
       "      <td>No</td>\n",
       "      <td>No</td>\n",
       "      <td>Employed-Absent</td>\n",
       "    </tr>\n",
       "    <tr>\n",
       "      <th>2</th>\n",
       "      <td>6</td>\n",
       "      <td>75680310997590</td>\n",
       "      <td>January</td>\n",
       "      <td>AL</td>\n",
       "      <td>3936.9110</td>\n",
       "      <td>1090.00</td>\n",
       "      <td>60</td>\n",
       "      <td>41</td>\n",
       "      <td>2</td>\n",
       "      <td>NaN</td>\n",
       "      <td>...</td>\n",
       "      <td>2</td>\n",
       "      <td>6</td>\n",
       "      <td>Native, Born In US</td>\n",
       "      <td>63</td>\n",
       "      <td>Motor vehicles and motor vehicle equipment man...</td>\n",
       "      <td>8140</td>\n",
       "      <td>Private, For Profit</td>\n",
       "      <td>No</td>\n",
       "      <td>No</td>\n",
       "      <td>Employed-At Work</td>\n",
       "    </tr>\n",
       "    <tr>\n",
       "      <th>3</th>\n",
       "      <td>10</td>\n",
       "      <td>179140131100930</td>\n",
       "      <td>January</td>\n",
       "      <td>AL</td>\n",
       "      <td>3288.3640</td>\n",
       "      <td>769.23</td>\n",
       "      <td>40</td>\n",
       "      <td>40</td>\n",
       "      <td>1</td>\n",
       "      <td>NaN</td>\n",
       "      <td>...</td>\n",
       "      <td>2</td>\n",
       "      <td>4</td>\n",
       "      <td>Native, Born In US</td>\n",
       "      <td>63</td>\n",
       "      <td>**Publishing, except newspapers and software (...</td>\n",
       "      <td>8255</td>\n",
       "      <td>Private, For Profit</td>\n",
       "      <td>Yes</td>\n",
       "      <td>NaN</td>\n",
       "      <td>Employed-At Work</td>\n",
       "    </tr>\n",
       "    <tr>\n",
       "      <th>4</th>\n",
       "      <td>11</td>\n",
       "      <td>179140131100930</td>\n",
       "      <td>January</td>\n",
       "      <td>AL</td>\n",
       "      <td>3422.8500</td>\n",
       "      <td>826.92</td>\n",
       "      <td>40</td>\n",
       "      <td>43</td>\n",
       "      <td>1</td>\n",
       "      <td>NaN</td>\n",
       "      <td>...</td>\n",
       "      <td>2</td>\n",
       "      <td>4</td>\n",
       "      <td>Native, Born In US</td>\n",
       "      <td>63</td>\n",
       "      <td>Banking and related activities (521, 52211,52219)</td>\n",
       "      <td>5940</td>\n",
       "      <td>Private, For Profit</td>\n",
       "      <td>No</td>\n",
       "      <td>No</td>\n",
       "      <td>Employed-At Work</td>\n",
       "    </tr>\n",
       "  </tbody>\n",
       "</table>\n",
       "<p>5 rows × 23 columns</p>\n",
       "</div>"
      ],
      "text/plain": [
       "   Unnamed: 0             hhid intmonth stfips     weight  earnwke  uhours  \\\n",
       "0           3    2600310997690  January     AL  3151.6801  1692.00      40   \n",
       "1           5   75680310997590  January     AL  3457.1138   450.00      40   \n",
       "2           6   75680310997590  January     AL  3936.9110  1090.00      60   \n",
       "3          10  179140131100930  January     AL  3288.3640   769.23      40   \n",
       "4          11  179140131100930  January     AL  3422.8500   826.92      40   \n",
       "\n",
       "   grade92  race  ethnic  ...  ownchild  chldpres            prcitshp  state  \\\n",
       "0       43     1     NaN  ...         0         0  Native, Born In US     63   \n",
       "1       41     2     NaN  ...         2         6  Native, Born In US     63   \n",
       "2       41     2     NaN  ...         2         6  Native, Born In US     63   \n",
       "3       40     1     NaN  ...         2         4  Native, Born In US     63   \n",
       "4       43     1     NaN  ...         2         4  Native, Born In US     63   \n",
       "\n",
       "                                               ind02 occ2012  \\\n",
       "0                         Employment services (5613)     630   \n",
       "1                     Outpatient care centers (6214)    5400   \n",
       "2  Motor vehicles and motor vehicle equipment man...    8140   \n",
       "3  **Publishing, except newspapers and software (...    8255   \n",
       "4  Banking and related activities (521, 52211,52219)    5940   \n",
       "\n",
       "                 class unionmme  unioncov            lfsr94  \n",
       "0  Private, For Profit       No        No  Employed-At Work  \n",
       "1  Private, For Profit       No        No   Employed-Absent  \n",
       "2  Private, For Profit       No        No  Employed-At Work  \n",
       "3  Private, For Profit      Yes       NaN  Employed-At Work  \n",
       "4  Private, For Profit       No        No  Employed-At Work  \n",
       "\n",
       "[5 rows x 23 columns]"
      ]
     },
     "execution_count": 2,
     "metadata": {},
     "output_type": "execute_result"
    }
   ],
   "source": [
    "# Importing dataset, printing shape and showing first 5 observations\n",
    "data = pd.read_csv('https://raw.githubusercontent.com/nxfern/DA3_Assignment_1/main/morg-2014-emp.csv?token=GHSAT0AAAAAACMRYCRL35EAZDWCGJWYQ3KSZNKN6JA')\n",
    "print(data.shape)\n",
    "data.head()"
   ]
  },
  {
   "cell_type": "markdown",
   "id": "ef3d6f2c-d8b3-412d-a003-3d3839083940",
   "metadata": {},
   "source": [
    "***\n",
    "## Selecting Occupation\n",
    "***\n",
    "Registered nurses were selected for an analysis of predictive models of hourly wage. The number of observations are 3455, occupation code 3255 per census data"
   ]
  },
  {
   "cell_type": "code",
   "execution_count": 3,
   "id": "4e2d981e-4d6e-4d87-aada-e75e329a7192",
   "metadata": {
    "tags": []
   },
   "outputs": [
    {
     "name": "stdout",
     "output_type": "stream",
     "text": [
      "(3455, 23)\n",
      "<class 'pandas.core.frame.DataFrame'>\n",
      "Index: 3455 entries, 37 to 149242\n",
      "Data columns (total 23 columns):\n",
      " #   Column      Non-Null Count  Dtype  \n",
      "---  ------      --------------  -----  \n",
      " 0   Unnamed: 0  3455 non-null   int64  \n",
      " 1   hhid        3455 non-null   int64  \n",
      " 2   intmonth    3455 non-null   object \n",
      " 3   stfips      3455 non-null   object \n",
      " 4   weight      3455 non-null   float64\n",
      " 5   earnwke     3455 non-null   float64\n",
      " 6   uhours      3455 non-null   int64  \n",
      " 7   grade92     3455 non-null   int64  \n",
      " 8   race        3455 non-null   int64  \n",
      " 9   ethnic      191 non-null    float64\n",
      " 10  age         3455 non-null   int64  \n",
      " 11  sex         3455 non-null   int64  \n",
      " 12  marital     3455 non-null   int64  \n",
      " 13  ownchild    3455 non-null   int64  \n",
      " 14  chldpres    3455 non-null   int64  \n",
      " 15  prcitshp    3455 non-null   object \n",
      " 16  state       3455 non-null   object \n",
      " 17  ind02       3455 non-null   object \n",
      " 18  occ2012     3455 non-null   int64  \n",
      " 19  class       3455 non-null   object \n",
      " 20  unionmme    3455 non-null   object \n",
      " 21  unioncov    2845 non-null   object \n",
      " 22  lfsr94      3455 non-null   object \n",
      "dtypes: float64(3), int64(11), object(9)\n",
      "memory usage: 647.8+ KB\n"
     ]
    }
   ],
   "source": [
    "# Selecting Registed Nurses as the occupation and assigning it to a new df rnurses, showing the amount of observations and checking column info\n",
    "rnurses = data.loc[data['occ2012'] == 3255]\n",
    "print(rnurses.shape)\n",
    "rnurses.info()"
   ]
  },
  {
   "cell_type": "markdown",
   "id": "db3945d6-4816-47be-9b3b-3bcd4971cbb3",
   "metadata": {},
   "source": [
    "***\n",
    "## Feature Engineering\n",
    "***\n",
    "Examination of data and creation of binary/dummy variables and/or transforming data"
   ]
  },
  {
   "cell_type": "code",
   "execution_count": 4,
   "id": "000a62e6-9635-46e6-9b5d-49db70d0c577",
   "metadata": {},
   "outputs": [],
   "source": [
    "# Adding 'Missing' to ethnic column to prevent observations being lost to 'null' for regression analysis\n",
    "rnurses['ethnic'] = rnurses['ethnic'].fillna('Missing')"
   ]
  },
  {
   "cell_type": "code",
   "execution_count": 5,
   "id": "503d8dc0-a5a2-425e-b8fa-27d03454f8fc",
   "metadata": {
    "tags": []
   },
   "outputs": [],
   "source": [
    "# Creating hourly wage variable, and quadratic variable for age\n",
    "rnurses['hrwage'] = rnurses['earnwke'] / rnurses['uhours']\n",
    "rnurses['agesq'] = rnurses['age'] ** 2"
   ]
  },
  {
   "cell_type": "code",
   "execution_count": 6,
   "id": "2c6252ca-431a-461b-86d8-6ed28423395d",
   "metadata": {
    "tags": []
   },
   "outputs": [
    {
     "data": {
      "text/plain": [
       "race\n",
       "1     2837\n",
       "2      320\n",
       "4      249\n",
       "5       12\n",
       "3       11\n",
       "6        8\n",
       "7        8\n",
       "8        3\n",
       "9        3\n",
       "13       1\n",
       "21       1\n",
       "16       1\n",
       "10       1\n",
       "Name: count, dtype: int64"
      ]
     },
     "execution_count": 6,
     "metadata": {},
     "output_type": "execute_result"
    }
   ],
   "source": [
    "# Checking race column value counts\n",
    "rnurses['race'].value_counts()"
   ]
  },
  {
   "cell_type": "code",
   "execution_count": 7,
   "id": "870174c0-c2ae-414b-a5fd-af0fd90f25a0",
   "metadata": {
    "tags": []
   },
   "outputs": [],
   "source": [
    "# According to dataset, 1=white, 2=black, and 4=asian. Creating dummy variables to account for black and asian\n",
    "rnurses['black'] = (rnurses['race'] == 2).astype(int)\n",
    "rnurses['asian'] = (rnurses['race'] == 4).astype(int)\n",
    "\n",
    "# Creating variable to account for hispanic using `ethnic` variable. 1 for all non-missing values, 0 for all missing values\n",
    "rnurses['hispanic'] = (rnurses['ethnic'] != 'Missing').astype(int)"
   ]
  },
  {
   "cell_type": "code",
   "execution_count": 8,
   "id": "832f2c8c-f761-45c8-9a45-ba3c50dd8a31",
   "metadata": {
    "tags": []
   },
   "outputs": [
    {
     "data": {
      "text/plain": [
       "sex\n",
       "2    3125\n",
       "1     330\n",
       "Name: count, dtype: int64"
      ]
     },
     "execution_count": 8,
     "metadata": {},
     "output_type": "execute_result"
    }
   ],
   "source": [
    "# Checking sex column value counts\n",
    "rnurses['sex'].value_counts()"
   ]
  },
  {
   "cell_type": "code",
   "execution_count": 9,
   "id": "bed31767-e789-43dc-b13a-4dc46877d5e1",
   "metadata": {
    "tags": []
   },
   "outputs": [],
   "source": [
    "# 1 = male, 2 = female. Creating `female` dummy variable\n",
    "rnurses['female'] = (rnurses['sex'] == 2).astype(int)"
   ]
  },
  {
   "cell_type": "code",
   "execution_count": 10,
   "id": "8cbde4b0-8337-4208-af9c-4f606adcac81",
   "metadata": {
    "tags": []
   },
   "outputs": [
    {
     "data": {
      "text/plain": [
       "ownchild\n",
       "0    2009\n",
       "2     569\n",
       "1     566\n",
       "3     246\n",
       "4      54\n",
       "5       9\n",
       "6       2\n",
       "Name: count, dtype: int64"
      ]
     },
     "execution_count": 10,
     "metadata": {},
     "output_type": "execute_result"
    }
   ],
   "source": [
    "# Chceking ownchild value counts\n",
    "rnurses.ownchild.value_counts()"
   ]
  },
  {
   "cell_type": "code",
   "execution_count": 11,
   "id": "d67181f2-8cc2-42ab-9aea-7ae3592dfa7a",
   "metadata": {
    "tags": []
   },
   "outputs": [],
   "source": [
    "# Creating dummy variables for number of children present\n",
    "rnurses['one_child'] = (rnurses['ownchild'] == 1).astype(int) # 1 if one child present 0 if not\n",
    "rnurses['two_child'] = (rnurses['ownchild'] == 2).astype(int) # 1 if two children present 0 if not\n",
    "rnurses['three_plus_child'] = (rnurses['ownchild'] >= 3).astype(int) # 1 if three or more childred present 0 if not"
   ]
  },
  {
   "cell_type": "code",
   "execution_count": 12,
   "id": "7bcc602c-f36f-4a11-9319-94c7a241ed52",
   "metadata": {
    "tags": []
   },
   "outputs": [
    {
     "data": {
      "text/plain": [
       "marital\n",
       "1    2212\n",
       "7     590\n",
       "5     462\n",
       "6      71\n",
       "4      54\n",
       "3      38\n",
       "2      28\n",
       "Name: count, dtype: int64"
      ]
     },
     "execution_count": 12,
     "metadata": {},
     "output_type": "execute_result"
    }
   ],
   "source": [
    "# Checking marital value counts\n",
    "rnurses.marital.value_counts()"
   ]
  },
  {
   "cell_type": "code",
   "execution_count": 13,
   "id": "69118ea0-4b1d-44a3-8b02-202eccfafc00",
   "metadata": {
    "tags": []
   },
   "outputs": [],
   "source": [
    "# Numers are defined as follows: 1 and 2 = married, 3 and 6 = separated, 4 = widowed, 5 = divorced, and 7 = never married\n",
    "\n",
    "# Creating dummy variable for currently single which includes the values for 3, 6 (separated), 5 (divorced)\n",
    "rnurses['now_single'] = rnurses['marital'].isin([3, 5, 6]).astype(int)\n",
    "\n",
    "# Creating dummy variable for 7 (never married)\n",
    "rnurses['never_married'] = (rnurses['marital'] == 7).astype(int)"
   ]
  },
  {
   "cell_type": "code",
   "execution_count": 14,
   "id": "a3bec9ff-7b90-488c-bc0a-ce69fb3dbf71",
   "metadata": {
    "tags": []
   },
   "outputs": [
    {
     "data": {
      "text/plain": [
       "grade92\n",
       "43    1888\n",
       "42     624\n",
       "41     485\n",
       "44     256\n",
       "40      97\n",
       "39      44\n",
       "45      38\n",
       "46      16\n",
       "38       2\n",
       "33       1\n",
       "34       1\n",
       "31       1\n",
       "37       1\n",
       "35       1\n",
       "Name: count, dtype: int64"
      ]
     },
     "execution_count": 14,
     "metadata": {},
     "output_type": "execute_result"
    }
   ],
   "source": [
    "# Checking grade92 column value counts\n",
    "rnurses.grade92.value_counts()"
   ]
  },
  {
   "cell_type": "code",
   "execution_count": 15,
   "id": "dba29930-bbf3-4163-9908-39a1cdfb0d63",
   "metadata": {
    "tags": []
   },
   "outputs": [],
   "source": [
    "# This column measures the amount of education. 43 = bachelors degree, >43 is graduate and/or phd, 41 and 42 are associate degrees, and <41 is college not completed\n",
    "\n",
    "# Creating dummy variable for associate degrees\n",
    "rnurses['associate'] = rnurses['grade92'].isin([41, 42]).astype(int)\n",
    "\n",
    "# Creating dummy variable for higher level education (above 43)\n",
    "rnurses['higher_edu'] = (rnurses['grade92'] > 43).astype(int)\n",
    "\n",
    "# Creating dummy variable for below bachelors and associate (below 41)\n",
    "rnurses['no_degree'] = (rnurses['grade92'] < 41).astype(int)"
   ]
  },
  {
   "cell_type": "code",
   "execution_count": 16,
   "id": "58fb6e95-b50b-4ef0-8620-7df5458ebe71",
   "metadata": {
    "tags": []
   },
   "outputs": [
    {
     "data": {
      "text/plain": [
       "prcitshp\n",
       "Native, Born In US                        3012\n",
       "Foreign Born, US Cit By Naturalization     307\n",
       "Foreign Born, Not a US Citizen              98\n",
       "Native, Born Abroad Of US Parent(s)         31\n",
       "Native, Born in PR or US Outlying Area       7\n",
       "Name: count, dtype: int64"
      ]
     },
     "execution_count": 16,
     "metadata": {},
     "output_type": "execute_result"
    }
   ],
   "source": [
    "# Checking prcitshp value counts\n",
    "rnurses.prcitshp.value_counts()"
   ]
  },
  {
   "cell_type": "markdown",
   "id": "8e9460bf-1909-4820-9d84-c0623aa01f55",
   "metadata": {},
   "source": [
    "The column prcitshp shows whether or not the person in question is a native citizen, naturalized, or not a US citizen. Not deemed to be significant for this analysis given low amount of observations of non-US citizens"
   ]
  },
  {
   "cell_type": "code",
   "execution_count": 17,
   "id": "5bb003cf-0f20-478e-8706-6167f07a0112",
   "metadata": {
    "tags": []
   },
   "outputs": [
    {
     "data": {
      "text/plain": [
       "unionmme\n",
       "No     2845\n",
       "Yes     610\n",
       "Name: count, dtype: int64"
      ]
     },
     "execution_count": 17,
     "metadata": {},
     "output_type": "execute_result"
    }
   ],
   "source": [
    "# Checking unionmme value counts\n",
    "rnurses.unionmme.value_counts()"
   ]
  },
  {
   "cell_type": "code",
   "execution_count": 18,
   "id": "a902ae3f-ab25-499b-bd7a-df731977d71e",
   "metadata": {},
   "outputs": [],
   "source": [
    "# This checks whether or not the person in question is a member of a union or some union-type entity. Changing this column to a binary variable with 'Yes' = 1\n",
    "rnurses['unionmme'] = (rnurses['unionmme'] == 'Yes').astype(int)"
   ]
  },
  {
   "cell_type": "markdown",
   "id": "f78bd9bb-f936-46c6-9642-4f568a926326",
   "metadata": {
    "tags": []
   },
   "source": [
    "***\n",
    "## Charts\n",
    "***\n",
    "#### Wage Distribution Check"
   ]
  },
  {
   "cell_type": "code",
   "execution_count": 19,
   "id": "59cf66d2-8f21-4acb-b8ff-0a7bf1438515",
   "metadata": {
    "tags": []
   },
   "outputs": [],
   "source": [
    "# Adding magic command for matplotlib\n",
    "%matplotlib inline"
   ]
  },
  {
   "cell_type": "code",
   "execution_count": 20,
   "id": "6c06a041-431f-473c-897a-adc2a3c94e25",
   "metadata": {
    "tags": []
   },
   "outputs": [
    {
     "data": {
      "text/plain": [
       "count    3455.000000\n",
       "mean       30.222456\n",
       "std        14.427157\n",
       "min         0.000937\n",
       "25%        21.000000\n",
       "50%        28.500000\n",
       "75%        36.961500\n",
       "max       293.268750\n",
       "Name: hrwage, dtype: float64"
      ]
     },
     "execution_count": 20,
     "metadata": {},
     "output_type": "execute_result"
    }
   ],
   "source": [
    "# Descriptive stats for hourly wage\n",
    "rnurses['hrwage'].describe()"
   ]
  },
  {
   "cell_type": "code",
   "execution_count": 21,
   "id": "2d3d450a-f83f-4bf5-a02b-874f26c0645b",
   "metadata": {
    "tags": []
   },
   "outputs": [
    {
     "data": {
      "image/png": "[encoded data removed]",
      "text/plain": [
       "<Figure size 640x480 with 1 Axes>"
      ]
     },
     "metadata": {},
     "output_type": "display_data"
    }
   ],
   "source": [
    "# Checking the distribution of hourly wages\n",
    "ax = sns.histplot(rnurses, x='hrwage', stat='density')\n",
    "sns.kdeplot(rnurses, x='hrwage', color=\"red\")\n",
    "\n",
    "ax.yaxis.set_visible(False)\n",
    "plt.title('Distribution of Wages (Pre IQR)')\n",
    "plt.xlabel('Hourly Wage');"
   ]
  },
  {
   "cell_type": "markdown",
   "id": "a8b24abd-fbe8-4381-aaf7-b5828882597c",
   "metadata": {},
   "source": [
    "The distribution of hourly wages has a right skew with a couple of extreme values. For the purposes of this analysis IQR will be used to drop any values considered to be outliers"
   ]
  },
  {
   "cell_type": "markdown",
   "id": "e3f63e25-cc34-4324-bbcf-ebee83af3925",
   "metadata": {
    "tags": []
   },
   "source": [
    "***\n",
    "#### IQR"
   ]
  },
  {
   "cell_type": "code",
   "execution_count": 22,
   "id": "e61436c1-561d-4746-952d-3d6af6f0be13",
   "metadata": {
    "tags": []
   },
   "outputs": [],
   "source": [
    "# Removing hourly wage outliers\n",
    "\n",
    "# Calculate the first quartile (Q1)\n",
    "Q1 = rnurses['hrwage'].quantile(0.25)\n",
    "\n",
    "# Calculate the third quartile (Q3)\n",
    "Q3 = rnurses['hrwage'].quantile(0.75)\n",
    "\n",
    "# Calculate the Interquartile Range (IQR)\n",
    "IQR = Q3 - Q1\n",
    "\n",
    "# Filter rows within the IQR range for a specific column\n",
    "rnurses_iqr = rnurses[(rnurses['hrwage'] >= Q1 - 1.5 * IQR) & (rnurses['hrwage'] <= Q3 + 1.5 * IQR)]"
   ]
  },
  {
   "cell_type": "code",
   "execution_count": 23,
   "id": "cdcf44a0-e751-4087-a86c-843da0bff75c",
   "metadata": {
    "tags": []
   },
   "outputs": [
    {
     "data": {
      "text/plain": [
       "count    3341.000000\n",
       "mean       28.727347\n",
       "std        11.334243\n",
       "min         0.000937\n",
       "25%        20.620000\n",
       "50%        27.884600\n",
       "75%        36.000000\n",
       "max        60.807500\n",
       "Name: hrwage, dtype: float64"
      ]
     },
     "execution_count": 23,
     "metadata": {},
     "output_type": "execute_result"
    }
   ],
   "source": [
    "# Checking descriptive statistics for hourly wage on IQR df\n",
    "rnurses_iqr['hrwage'].describe()"
   ]
  },
  {
   "cell_type": "markdown",
   "id": "ba698ceb-decd-4c21-af9e-f33e8ddaef22",
   "metadata": {},
   "source": [
    "We now have 3341 total observations in our data after IQR"
   ]
  },
  {
   "cell_type": "code",
   "execution_count": 24,
   "id": "a222f6e4-daed-40fb-9ef8-595a2f22a36c",
   "metadata": {
    "tags": []
   },
   "outputs": [
    {
     "data": {
      "image/png": "[encoded data removed]",
      "text/plain": [
       "<Figure size 640x480 with 1 Axes>"
      ]
     },
     "metadata": {},
     "output_type": "display_data"
    }
   ],
   "source": [
    "# Checking distribution of hourly wages on IQR df\n",
    "ax = sns.histplot(rnurses_iqr, x='hrwage', stat='density')\n",
    "sns.kdeplot(rnurses_iqr, x='hrwage', color=\"red\")\n",
    "\n",
    "ax.yaxis.set_visible(False)\n",
    "plt.xlim(0, rnurses_iqr['hrwage'].max())\n",
    "plt.title('Distribution of Wages (Post IQR)')\n",
    "plt.xlabel('Hourly Wage');"
   ]
  },
  {
   "cell_type": "markdown",
   "id": "fd79b0b2-783a-44d2-a15a-1ed2fb615b6d",
   "metadata": {},
   "source": [
    "The distribution of the plot is now much less skewed and approximates a normal distribution"
   ]
  },
  {
   "cell_type": "markdown",
   "id": "157cc0f8-b63a-4bd3-90b7-c530ee1c0d00",
   "metadata": {},
   "source": [
    "***\n",
    "## Charts\n",
    "***\n",
    "### Non-linear (Lowess) vs Linear (OLS)\n",
    "#### Hourly wages on Age"
   ]
  },
  {
   "cell_type": "code",
   "execution_count": 25,
   "id": "3cfb3de4-4d83-4db5-b551-aeb8efbc7527",
   "metadata": {
    "tags": []
   },
   "outputs": [
    {
     "data": {
      "image/png": "[encoded data removed]",
      "text/plain": [
       "<Figure size 640x480 with 1 Axes>"
      ]
     },
     "metadata": {},
     "output_type": "display_data"
    }
   ],
   "source": [
    "# Lowess\n",
    "sns.regplot(rnurses_iqr, x = 'age', y = 'hrwage', marker= '.', fit_reg= True, lowess= True, line_kws = {'color':'red'})\n",
    "\n",
    "# OLS\n",
    "sns.regplot(rnurses_iqr, x = 'age', y = 'hrwage', scatter=False, line_kws={'color':'green', 'linestyle': '--'})\n",
    "\n",
    "plt.xlabel('Age')\n",
    "plt.ylabel('Hourly Wage')\n",
    "plt.legend(['Marker', 'Lowess', 'OLS']); # Unable to figure out how to only show Lowess and OLS in legend, keeping as is"
   ]
  },
  {
   "cell_type": "markdown",
   "id": "1db9408d-3a10-4f39-b4b0-4fd90cddd969",
   "metadata": {},
   "source": [
    "The Lowess and OLS plots are very similar and therefore a linear model should do a good job of finding a good fit"
   ]
  },
  {
   "cell_type": "markdown",
   "id": "dc141f7a-b611-4691-8362-fb008e1eb5f7",
   "metadata": {},
   "source": [
    "***\n",
    "## Models\n",
    "***\n",
    "#### Model 1\n",
    "Making a simple regression of `hrwage` on `age` with `female` as an explanatory variable and `agesq` to account for potential curvature in the data. Accounting for influence of gender on the hourly wage.\n",
    "\n",
    "$hrwage = \\beta_0+\\beta_1age+\\beta_2agesq+\\beta_3female$"
   ]
  },
  {
   "cell_type": "code",
   "execution_count": 26,
   "id": "619b9b1d-3776-4e67-a59b-a4288226d318",
   "metadata": {
    "tags": []
   },
   "outputs": [],
   "source": [
    "# Creating regression for model 1\n",
    "reg1 = smf.ols('hrwage ~ age + agesq + female', data=rnurses_iqr).fit(cov_type=\"HC1\")"
   ]
  },
  {
   "cell_type": "markdown",
   "id": "3e8edcfe-242e-45f0-a61d-7616e1a48634",
   "metadata": {},
   "source": [
    "#### Model 2\n",
    "Adding education binaries as explanatory variables to account for education potentially influencing the hourly wages\n",
    "\n",
    "$hrwage = \\beta_0+\\beta_1age+\\beta_2agesq+\\beta_3female+\\beta_4no degree+\\beta_5associate+\\beta_6higher edu$"
   ]
  },
  {
   "cell_type": "code",
   "execution_count": 27,
   "id": "89f392d3-c110-40be-b9a9-11af3448aabc",
   "metadata": {
    "tags": []
   },
   "outputs": [],
   "source": [
    "# Creating regression for model 2\n",
    "reg2 = smf.ols('hrwage ~ age + agesq + female + no_degree + associate + higher_edu', data=rnurses_iqr).fit(cov_type=\"HC1\")"
   ]
  },
  {
   "cell_type": "markdown",
   "id": "bb7581de-8070-4d8f-8e71-3dc3568ff5c9",
   "metadata": {},
   "source": [
    "#### Model 3\n",
    "Adding race binary variables as explanatory variables in order to account for race potentially influencing the hourly wage as well as adding `unionmme` to account for union membership potentially affecting hourly wages. Also adding interaction terms between `female` and `age` as well as `unionmme` and `age`\n",
    "\n",
    "$hrwage = \\beta_0+\\beta_1age+\\beta_2agesq+\\beta_3female+\\beta_4no degree+\\beta_5associate+\\beta_6higher edu+\\beta_7black+\\beta_8asian+\\beta_9hispanic+\\beta_{10}unionmme+\\beta_{11}unionmme*age+\\beta_{12}female*age$"
   ]
  },
  {
   "cell_type": "code",
   "execution_count": 28,
   "id": "f060fd21-374b-43d2-b003-aa105cb49052",
   "metadata": {
    "tags": []
   },
   "outputs": [],
   "source": [
    "# Creating regression for model 3\n",
    "reg3 = smf.ols('hrwage ~ age + agesq + female + no_degree + associate + higher_edu + black + asian + hispanic + unionmme + unionmme*age + female*age', data=rnurses_iqr).fit(cov_type=\"HC1\")"
   ]
  },
  {
   "cell_type": "markdown",
   "id": "86b43e62-7fd5-47ef-a861-a13b1e7797a2",
   "metadata": {},
   "source": [
    "#### Model 4\n",
    "Adding all binary variables accounting for children as well as marital status to account for families and/or children potentially influencing wages and an interaction term between the marital status binary variables and age\n",
    "\n",
    "$hrwage = \\beta_0+\\beta_1age+\\beta_2agesq+\\beta_3female+\\beta_4no degree+\\beta_5associate+\\beta_6higher edu+\\beta_7black+\\beta_8asian+\\beta_9hispanic+\\beta_{10}unionmme+\\beta_{11}unionmme*age+\\beta_{12}female*age+\\beta_{13}one\\_child+\\beta_{14}two\\_child+\\beta_{15}three\\_plus\\_child+\\beta_{16}never\\_married+\\beta_{17}now\\_single+\\beta_{18}never\\_married*age+\\beta_{19}now\\_single*age$"
   ]
  },
  {
   "cell_type": "code",
   "execution_count": 29,
   "id": "dc051db5-e13c-456d-a1be-79d717ae2438",
   "metadata": {
    "tags": []
   },
   "outputs": [],
   "source": [
    "# Creating regression for model 4\n",
    "reg4 = smf.ols('hrwage ~ age + agesq + female + no_degree + associate + higher_edu + black + asian + hispanic + unionmme + unionmme*age +female*age +\\\n",
    "                one_child + two_child + three_plus_child + never_married + now_single + never_married*age + now_single*age', data=rnurses_iqr).fit(cov_type=\"HC1\")"
   ]
  },
  {
   "cell_type": "markdown",
   "id": "d613240e-2d06-4c1f-80df-46355a38e944",
   "metadata": {},
   "source": [
    "### Stargazer Results\n",
    "Viewing results of stargazer for all regressions"
   ]
  },
  {
   "cell_type": "code",
   "execution_count": 30,
   "id": "6effd306-cb6d-4170-b823-c551a6cdcdba",
   "metadata": {
    "tags": []
   },
   "outputs": [
    {
     "data": {
      "text/html": [
       "<table style=\"text-align:center\"><tr><td colspan=\"5\" style=\"border-bottom: 1px solid black\"></td></tr>\n",
       "<tr><td style=\"text-align:left\"></td><td colspan=\"4\"><em>Dependent variable: hrwage</em></td></tr><tr><td style=\"text-align:left\"></td><tr><td style=\"text-align:left\"></td><td>(1)</td><td>(2)</td><td>(3)</td><td>(4)</td></tr>\n",
       "<tr><td colspan=\"5\" style=\"border-bottom: 1px solid black\"></td></tr>\n",
       "\n",
       "<tr><td style=\"text-align:left\">Constant</td><td>9.028<sup>***</sup></td><td>9.521<sup>***</sup></td><td>10.202<sup>***</sup></td><td>14.336<sup>***</sup></td></tr>\n",
       "<tr><td style=\"text-align:left\"></td><td>(2.683)</td><td>(2.579)</td><td>(3.179)</td><td>(3.662)</td></tr>\n",
       "<tr><td style=\"text-align:left\">age</td><td>0.838<sup>***</sup></td><td>0.886<sup>***</sup></td><td>0.844<sup>***</sup></td><td>0.680<sup>***</sup></td></tr>\n",
       "<tr><td style=\"text-align:left\"></td><td>(0.131)</td><td>(0.127)</td><td>(0.133)</td><td>(0.159)</td></tr>\n",
       "<tr><td style=\"text-align:left\">agesq</td><td>-0.008<sup>***</sup></td><td>-0.008<sup>***</sup></td><td>-0.008<sup>***</sup></td><td>-0.006<sup>***</sup></td></tr>\n",
       "<tr><td style=\"text-align:left\"></td><td>(0.002)</td><td>(0.002)</td><td>(0.001)</td><td>(0.002)</td></tr>\n",
       "<tr><td style=\"text-align:left\">female</td><td>-1.269<sup>**</sup></td><td>-1.097<sup>*</sup></td><td>-2.150<sup></sup></td><td>-2.530<sup></sup></td></tr>\n",
       "<tr><td style=\"text-align:left\"></td><td>(0.642)</td><td>(0.634)</td><td>(2.273)</td><td>(2.258)</td></tr>\n",
       "<tr><td style=\"text-align:left\">female:age</td><td></td><td></td><td>0.025<sup></sup></td><td>0.033<sup></sup></td></tr>\n",
       "<tr><td style=\"text-align:left\"></td><td></td><td></td><td>(0.054)</td><td>(0.054)</td></tr>\n",
       "<tr><td style=\"text-align:left\">no_degree</td><td></td><td>-8.919<sup>***</sup></td><td>-8.296<sup>***</sup></td><td>-8.040<sup>***</sup></td></tr>\n",
       "<tr><td style=\"text-align:left\"></td><td></td><td>(0.961)</td><td>(0.948)</td><td>(0.950)</td></tr>\n",
       "<tr><td style=\"text-align:left\">associate</td><td></td><td>-5.202<sup>***</sup></td><td>-4.768<sup>***</sup></td><td>-4.683<sup>***</sup></td></tr>\n",
       "<tr><td style=\"text-align:left\"></td><td></td><td>(0.414)</td><td>(0.409)</td><td>(0.411)</td></tr>\n",
       "<tr><td style=\"text-align:left\">higher_edu</td><td></td><td>-0.013<sup></sup></td><td>-0.120<sup></sup></td><td>-0.021<sup></sup></td></tr>\n",
       "<tr><td style=\"text-align:left\"></td><td></td><td>(0.671)</td><td>(0.683)</td><td>(0.679)</td></tr>\n",
       "<tr><td style=\"text-align:left\">black</td><td></td><td></td><td>-4.491<sup>***</sup></td><td>-4.515<sup>***</sup></td></tr>\n",
       "<tr><td style=\"text-align:left\"></td><td></td><td></td><td>(0.659)</td><td>(0.660)</td></tr>\n",
       "<tr><td style=\"text-align:left\">asian</td><td></td><td></td><td>2.513<sup>***</sup></td><td>2.507<sup>***</sup></td></tr>\n",
       "<tr><td style=\"text-align:left\"></td><td></td><td></td><td>(0.810)</td><td>(0.814)</td></tr>\n",
       "<tr><td style=\"text-align:left\">hispanic</td><td></td><td></td><td>0.403<sup></sup></td><td>0.452<sup></sup></td></tr>\n",
       "<tr><td style=\"text-align:left\"></td><td></td><td></td><td>(0.813)</td><td>(0.816)</td></tr>\n",
       "<tr><td style=\"text-align:left\">unionmme</td><td></td><td></td><td>5.591<sup>***</sup></td><td>6.044<sup>***</sup></td></tr>\n",
       "<tr><td style=\"text-align:left\"></td><td></td><td></td><td>(2.080)</td><td>(2.092)</td></tr>\n",
       "<tr><td style=\"text-align:left\">unionmme:age</td><td></td><td></td><td>-0.036<sup></sup></td><td>-0.048<sup></sup></td></tr>\n",
       "<tr><td style=\"text-align:left\"></td><td></td><td></td><td>(0.048)</td><td>(0.048)</td></tr>\n",
       "<tr><td style=\"text-align:left\">Children: 1</td><td></td><td></td><td></td><td>0.235<sup></sup></td></tr>\n",
       "<tr><td style=\"text-align:left\"></td><td></td><td></td><td></td><td>(0.558)</td></tr>\n",
       "<tr><td style=\"text-align:left\">Children: 2</td><td></td><td></td><td></td><td>0.530<sup></sup></td></tr>\n",
       "<tr><td style=\"text-align:left\"></td><td></td><td></td><td></td><td>(0.574)</td></tr>\n",
       "<tr><td style=\"text-align:left\">Children: 3+</td><td></td><td></td><td></td><td>0.113<sup></sup></td></tr>\n",
       "<tr><td style=\"text-align:left\"></td><td></td><td></td><td></td><td>(0.680)</td></tr>\n",
       "<tr><td style=\"text-align:left\">never_married</td><td></td><td></td><td></td><td>-5.872<sup>***</sup></td></tr>\n",
       "<tr><td style=\"text-align:left\"></td><td></td><td></td><td></td><td>(1.786)</td></tr>\n",
       "<tr><td style=\"text-align:left\">never_married:age</td><td></td><td></td><td></td><td>0.165<sup>***</sup></td></tr>\n",
       "<tr><td style=\"text-align:left\"></td><td></td><td></td><td></td><td>(0.050)</td></tr>\n",
       "<tr><td style=\"text-align:left\">now_single</td><td></td><td></td><td></td><td>-4.246<sup>*</sup></td></tr>\n",
       "<tr><td style=\"text-align:left\"></td><td></td><td></td><td></td><td>(2.211)</td></tr>\n",
       "<tr><td style=\"text-align:left\">now_single:age</td><td></td><td></td><td></td><td>0.078<sup></sup></td></tr>\n",
       "<tr><td style=\"text-align:left\"></td><td></td><td></td><td></td><td>(0.049)</td></tr>\n",
       "\n",
       "<td colspan=\"5\" style=\"border-bottom: 1px solid black\"></td></tr>\n",
       "<tr><td style=\"text-align: left\">Observations</td><td>3341</td><td>3341</td><td>3341</td><td>3341</td></tr><tr><td style=\"text-align: left\">R<sup>2</sup></td><td>0.042</td><td>0.103</td><td>0.139</td><td>0.144</td></tr><tr><td style=\"text-align: left\">Adjusted R<sup>2</sup></td><td>0.041</td><td>0.102</td><td>0.136</td><td>0.139</td></tr><tr><td style=\"text-align: left\">Residual Std. Error</td><td>11.098 (df=3337)</td><td>10.743 (df=3334)</td><td>10.534 (df=3328)</td><td>10.517 (df=3321)</td></tr><tr><td style=\"text-align: left\">F Statistic</td><td>61.606<sup>***</sup> (df=3; 3337)</td><td>69.130<sup>***</sup> (df=6; 3334)</td><td>48.362<sup>***</sup> (df=12; 3328)</td><td>31.795<sup>***</sup> (df=19; 3321)</td></tr>\n",
       "<tr><td style=\"text-align: left\">RMSE</td><td>11.091</td><td>10.732</td><td>10.513</td><td>10.485</td></tr><tr><td style=\"text-align: left\">BIC</td><td>25591.75</td><td>25395.88</td><td>25307.06</td><td>25346.01</td></tr><tr><td colspan=\"5\" style=\"border-bottom: 1px solid black\"></td></tr><tr><td style=\"text-align: left\">Note:</td><td colspan=\"4\" style=\"text-align: right\"><sup>*</sup>p&lt;0.1; <sup>**</sup>p&lt;0.05; <sup>***</sup>p&lt;0.01</td></tr></table>"
      ],
      "text/plain": [
       "<stargazer.stargazer.Stargazer at 0x147ca7a2d90>"
      ]
     },
     "execution_count": 30,
     "metadata": {},
     "output_type": "execute_result"
    }
   ],
   "source": [
    "# Viewing regression results with stargazer\n",
    "sg = stargazer.Stargazer([reg1, reg2, reg3, reg4])\n",
    "\n",
    "sg.covariate_order(['Intercept', 'age', 'agesq', 'female', 'female:age', 'no_degree', 'associate', 'higher_edu', 'black', 'asian', 'hispanic', 'unionmme', 'unionmme:age', \n",
    "                           'one_child', 'two_child', 'three_plus_child', 'never_married', 'never_married:age', 'now_single', 'now_single:age'])\n",
    "sg.rename_covariates({'one_child': 'Children: 1', 'two_child': 'Children: 2', \n",
    "                             'three_plus_child': 'Children: 3+', 'Intercept': 'Constant'})\n",
    "\n",
    "# Adding RMSE for measurement in the full sample for each model\n",
    "rmse_values = [round(rmse(x.fittedvalues, rnurses_iqr.hrwage), 3) for x in [reg1, reg2, reg3, reg4]]\n",
    "sg.add_line('RMSE', rmse_values, location=stargazer.LineLocation.FOOTER_BOTTOM)\n",
    "\n",
    "# Adding BIC for measurement in the full sample for each model\n",
    "bic = [round(x.bic, 2) for x in [reg1, reg2, reg3, reg4]]\n",
    "sg.add_line('BIC', bic, location=stargazer.LineLocation.FOOTER_BOTTOM)\n",
    "\n",
    "sg"
   ]
  },
  {
   "cell_type": "markdown",
   "id": "2a15ed61-b664-47e4-829d-2ef30a891861",
   "metadata": {},
   "source": [
    "In the full sample the RMSE and BIC values point to model 3 being the best model to use for predictions. RMSE by it's nature will always decrease as complexity is added to models however the BIC penalizes overfitting. When viewing both together the BIC is the lowest in model 3 while the RMSE does not drop much more from model 3 to model 4. Cross-fold validation still needs to be done, however, which may change how model 3 is viewed in comparison. Also of note, the Adjusted $r^2$ of all the models is relatively low (between 4% and 14%) which would imply that none of the models are doing a great job of capturing the variance of the data"
   ]
  },
  {
   "cell_type": "markdown",
   "id": "deef56a4-a611-4d58-92ac-18e5b842a3ab",
   "metadata": {},
   "source": [
    "***\n",
    "## Cross-fold validation\n",
    "***"
   ]
  },
  {
   "cell_type": "code",
   "execution_count": 31,
   "id": "4b89340b-a1a3-4baa-adfe-d4459f115ff4",
   "metadata": {
    "tags": []
   },
   "outputs": [],
   "source": [
    "# Importing library for predictive analysis\n",
    "from sklearn.model_selection import KFold\n",
    "\n",
    "# Making 5 folds\n",
    "k = KFold(n_splits=5, shuffle=True, random_state=True) # Setting a random state for cross-fold validation"
   ]
  },
  {
   "cell_type": "code",
   "execution_count": 32,
   "id": "72b05a08-1121-4de2-9211-92a35146e393",
   "metadata": {
    "tags": []
   },
   "outputs": [],
   "source": [
    "# Cross validate OLS with combining sklearn k-fold cross validation and statsmodels ols formula\n",
    "\n",
    "def cv_reg(formula, data, kfold, robustse=None):\n",
    "    regression_list = []\n",
    "    predicts_on_test = []\n",
    "    rsquared = []\n",
    "    rmse_list = []\n",
    "\n",
    "    # Calculating OLS for each fold\n",
    "\n",
    "    for train_index, test_index in k.split(data):\n",
    "        # print(\"TRAIN:\", train_index, \"TEST:\", test_index)\n",
    "        data_train, data_test = data.iloc[train_index, :], data.iloc[test_index, :]\n",
    "        if robustse is None:\n",
    "            model = smf.ols(formula, data=data_train).fit()\n",
    "        else:\n",
    "            model = smf.ols(formula, data=data_train).fit(cov_type=robustse)\n",
    "        regression_list += [model]\n",
    "        predicts_on_test += [model.predict(data_test)]\n",
    "        rsquared += [model.rsquared]\n",
    "        rmse_list += [rmse(data_train[formula.split(\"~\")[0]], model.predict())]\n",
    "\n",
    "    return {\n",
    "        \"regressions\": regression_list,\n",
    "        \"test_predict\": predicts_on_test,\n",
    "        \"r2\": rsquared,\n",
    "        \"rmse\": rmse_list,\n",
    "    }\n",
    "\n",
    "\n",
    "def summarize_cv(cvlist, stat=\"rmse\"):\n",
    "    result = pd.DataFrame(\n",
    "        {\"Model\" + str(x + 1): cvlist[x][stat] for x in range(len(cv_list))}\n",
    "    )\n",
    "    result[\"Resample\"] = [\"Fold\" + str(x + 1) for x in range(len(cvlist[0][\"rmse\"]))]\n",
    "    result = result.set_index(\"Resample\")\n",
    "    result = pd.concat([result, pd.DataFrame(result.mean(), columns=[\"Average\"]).T])\n",
    "    return result"
   ]
  },
  {
   "cell_type": "code",
   "execution_count": 33,
   "id": "177f3b40-edc1-44a9-bf3a-01ec41739867",
   "metadata": {
    "tags": []
   },
   "outputs": [],
   "source": [
    "# Running folds for each model\n",
    "\n",
    "# Model 1\n",
    "cv1 = cv_reg('hrwage~age+agesq+female', rnurses_iqr, k, 'HC1')\n",
    "\n",
    "# Model 2\n",
    "cv2 = cv_reg('hrwage~age+agesq+female+no_degree+associate+higher_edu', rnurses_iqr, k, 'HC1')\n",
    "\n",
    "# Model 3\n",
    "cv3 = cv_reg('hrwage~age+agesq+female+no_degree+associate+higher_edu+black+asian+hispanic+unionmme+unionmme*age+female*age', rnurses_iqr, k, 'HC1')\n",
    "\n",
    "# Model 4\n",
    "cv4 = cv_reg('hrwage~age+agesq+female+no_degree+associate+higher_edu+black+asian+hispanic+unionmme+unionmme*age+\\\n",
    "              female*age+one_child+two_child+three_plus_child+never_married+now_single+never_married*age+now_single*age', rnurses_iqr, k, 'HC1')"
   ]
  },
  {
   "cell_type": "code",
   "execution_count": 34,
   "id": "3f8cabf5-1267-4e78-990e-4eadae1e0f16",
   "metadata": {
    "tags": []
   },
   "outputs": [
    {
     "data": {
      "text/html": [
       "<div>\n",
       "<style scoped>\n",
       "    .dataframe tbody tr th:only-of-type {\n",
       "        vertical-align: middle;\n",
       "    }\n",
       "\n",
       "    .dataframe tbody tr th {\n",
       "        vertical-align: top;\n",
       "    }\n",
       "\n",
       "    .dataframe thead th {\n",
       "        text-align: right;\n",
       "    }\n",
       "</style>\n",
       "<table border=\"1\" class=\"dataframe\">\n",
       "  <thead>\n",
       "    <tr style=\"text-align: right;\">\n",
       "      <th></th>\n",
       "      <th>Model1</th>\n",
       "      <th>Model2</th>\n",
       "      <th>Model3</th>\n",
       "      <th>Model4</th>\n",
       "    </tr>\n",
       "  </thead>\n",
       "  <tbody>\n",
       "    <tr>\n",
       "      <th>Fold1</th>\n",
       "      <td>11.192307</td>\n",
       "      <td>10.828663</td>\n",
       "      <td>10.573649</td>\n",
       "      <td>10.546650</td>\n",
       "    </tr>\n",
       "    <tr>\n",
       "      <th>Fold2</th>\n",
       "      <td>11.009291</td>\n",
       "      <td>10.677538</td>\n",
       "      <td>10.483365</td>\n",
       "      <td>10.454148</td>\n",
       "    </tr>\n",
       "    <tr>\n",
       "      <th>Fold3</th>\n",
       "      <td>11.093651</td>\n",
       "      <td>10.727483</td>\n",
       "      <td>10.530777</td>\n",
       "      <td>10.504527</td>\n",
       "    </tr>\n",
       "    <tr>\n",
       "      <th>Fold4</th>\n",
       "      <td>11.042620</td>\n",
       "      <td>10.665740</td>\n",
       "      <td>10.434913</td>\n",
       "      <td>10.383836</td>\n",
       "    </tr>\n",
       "    <tr>\n",
       "      <th>Fold5</th>\n",
       "      <td>11.113534</td>\n",
       "      <td>10.749430</td>\n",
       "      <td>10.520046</td>\n",
       "      <td>10.494279</td>\n",
       "    </tr>\n",
       "    <tr>\n",
       "      <th>Average</th>\n",
       "      <td>11.090281</td>\n",
       "      <td>10.729771</td>\n",
       "      <td>10.508550</td>\n",
       "      <td>10.476688</td>\n",
       "    </tr>\n",
       "  </tbody>\n",
       "</table>\n",
       "</div>"
      ],
      "text/plain": [
       "            Model1     Model2     Model3     Model4\n",
       "Fold1    11.192307  10.828663  10.573649  10.546650\n",
       "Fold2    11.009291  10.677538  10.483365  10.454148\n",
       "Fold3    11.093651  10.727483  10.530777  10.504527\n",
       "Fold4    11.042620  10.665740  10.434913  10.383836\n",
       "Fold5    11.113534  10.749430  10.520046  10.494279\n",
       "Average  11.090281  10.729771  10.508550  10.476688"
      ]
     },
     "execution_count": 34,
     "metadata": {},
     "output_type": "execute_result"
    }
   ],
   "source": [
    "# Viewing results of cross-fold validation\n",
    "\n",
    "# Creating list of cross validations\n",
    "cv_list = [cv1, cv2, cv3, cv4]\n",
    "\n",
    "# Displaying list\n",
    "summarize_cv(cv_list)"
   ]
  },
  {
   "cell_type": "markdown",
   "id": "4c62feb3-3ec4-4117-99cd-5454e55c85b5",
   "metadata": {},
   "source": [
    "#### Cross-fold validation Results and Inference\n",
    "Cross-fold validation results show a very similar output to the RMSE from the main sample. As such, it does not change our inference that model 3 is the best model to use for predictions.\n",
    "\n",
    "As mentioned earlier, the more complex the model the more the RMSE will decrease. This is always true. The more complex the model, however, the more susceptible it can be to overfitting.\n",
    "\n",
    "A very complex model for your original data can make for a great fit with the data that you are working with, however if you were to use an overly complex model with live data you may end up having a poor fit, or at best a worse fit than a model that might be much less complex. Since we are trying to make the best prediction possible in live data based on this original data, we must be conscious of our decisions when making models and trying not to overfit the models. This is why the BIC is important to view in tandem with the RMSE since (mentioned earlier as well) it penalizes overfitting. For these reasons, model 3 appears to be the best choice for use in predictions."
   ]
  },
  {
   "cell_type": "markdown",
   "id": "ec4932e2-1074-4d76-af5b-38d0f681854a",
   "metadata": {},
   "source": [
    "***\n",
    "## Predictions\n",
    "***\n",
    "### Using Model 3 for making predictions\n",
    "#### Prediction 1\n",
    "Having selected model 3 as the best model for use in predictions, we will now select values in order check the prediction of the model. The following values will be selected for testing the first prediction:\n",
    "- Bachelors: Yes\n",
    "- Union member: Yes\n",
    "- Age: 35\n",
    "- Sex: Female\n",
    "- Race: Black"
   ]
  },
  {
   "cell_type": "code",
   "execution_count": 35,
   "id": "9677f95f-61dc-49b5-8edf-004f3aeba893",
   "metadata": {
    "tags": []
   },
   "outputs": [],
   "source": [
    "# Disabling scientific notation\n",
    "pd.set_option('display.float_format', lambda x: '%.3f' % x)"
   ]
  },
  {
   "cell_type": "code",
   "execution_count": 36,
   "id": "18762161-ac9f-4036-ac8c-ce77064a0273",
   "metadata": {
    "tags": []
   },
   "outputs": [
    {
     "data": {
      "text/plain": [
       "count   3341.000\n",
       "mean      -0.000\n",
       "std       10.515\n",
       "min      -34.773\n",
       "25%       -7.423\n",
       "50%       -0.720\n",
       "75%        6.540\n",
       "max       34.742\n",
       "dtype: float64"
      ]
     },
     "execution_count": 36,
     "metadata": {},
     "output_type": "execute_result"
    }
   ],
   "source": [
    "# Checking to see if disabling scientific notation worked and also viewing the residuals for model 3\n",
    "reg3.resid.describe()"
   ]
  },
  {
   "cell_type": "code",
   "execution_count": 37,
   "id": "d73434bf-5d1f-494d-852d-5bb11ca9f733",
   "metadata": {
    "tags": []
   },
   "outputs": [
    {
     "data": {
      "text/html": [
       "<div>\n",
       "<style scoped>\n",
       "    .dataframe tbody tr th:only-of-type {\n",
       "        vertical-align: middle;\n",
       "    }\n",
       "\n",
       "    .dataframe tbody tr th {\n",
       "        vertical-align: top;\n",
       "    }\n",
       "\n",
       "    .dataframe thead th {\n",
       "        text-align: right;\n",
       "    }\n",
       "</style>\n",
       "<table border=\"1\" class=\"dataframe\">\n",
       "  <thead>\n",
       "    <tr style=\"text-align: right;\">\n",
       "      <th></th>\n",
       "      <th>age</th>\n",
       "      <th>agesq</th>\n",
       "      <th>female</th>\n",
       "      <th>no_degree</th>\n",
       "      <th>associate</th>\n",
       "      <th>higher_edu</th>\n",
       "      <th>black</th>\n",
       "      <th>asian</th>\n",
       "      <th>hispanic</th>\n",
       "      <th>unionmme</th>\n",
       "      <th>hrwage</th>\n",
       "    </tr>\n",
       "  </thead>\n",
       "  <tbody>\n",
       "    <tr>\n",
       "      <th>0</th>\n",
       "      <td>35.000</td>\n",
       "      <td>1225.000</td>\n",
       "      <td>1.000</td>\n",
       "      <td>0.000</td>\n",
       "      <td>0.000</td>\n",
       "      <td>0.000</td>\n",
       "      <td>1.000</td>\n",
       "      <td>0.000</td>\n",
       "      <td>0.000</td>\n",
       "      <td>1.000</td>\n",
       "      <td>NaN</td>\n",
       "    </tr>\n",
       "  </tbody>\n",
       "</table>\n",
       "</div>"
      ],
      "text/plain": [
       "     age    agesq  female  no_degree  associate  higher_edu  black  asian  \\\n",
       "0 35.000 1225.000   1.000      0.000      0.000       0.000  1.000  0.000   \n",
       "\n",
       "   hispanic  unionmme  hrwage  \n",
       "0     0.000     1.000     NaN  "
      ]
     },
     "execution_count": 37,
     "metadata": {},
     "output_type": "execute_result"
    }
   ],
   "source": [
    "# Creating variable `pv` for assigning predictive values\n",
    "pv = pd.DataFrame(pd.Series({\n",
    "    \"age\":35,\n",
    "    \"agesq\":35**2,\n",
    "    \"female\":1,\n",
    "    \"no_degree\":0,\n",
    "    \"associate\":0,\n",
    "    \"higher_edu\":0,\n",
    "    \"black\":1,\n",
    "    \"asian\":0,\n",
    "    \"hispanic\":0,\n",
    "    \"unionmme\":1,\n",
    "    \"hrwage\":np.nan,\n",
    "})).T\n",
    "pv"
   ]
  },
  {
   "cell_type": "code",
   "execution_count": 38,
   "id": "675c558b-cac0-475c-a77a-9e37d1c777aa",
   "metadata": {
    "tags": []
   },
   "outputs": [
    {
     "data": {
      "text/html": [
       "<div>\n",
       "<style scoped>\n",
       "    .dataframe tbody tr th:only-of-type {\n",
       "        vertical-align: middle;\n",
       "    }\n",
       "\n",
       "    .dataframe tbody tr th {\n",
       "        vertical-align: top;\n",
       "    }\n",
       "\n",
       "    .dataframe thead th {\n",
       "        text-align: right;\n",
       "    }\n",
       "</style>\n",
       "<table border=\"1\" class=\"dataframe\">\n",
       "  <thead>\n",
       "    <tr style=\"text-align: right;\">\n",
       "      <th></th>\n",
       "      <th>mean</th>\n",
       "      <th>mean_se</th>\n",
       "      <th>mean_ci_lower</th>\n",
       "      <th>mean_ci_upper</th>\n",
       "      <th>obs_ci_lower</th>\n",
       "      <th>obs_ci_upper</th>\n",
       "    </tr>\n",
       "    <tr>\n",
       "      <th>PI</th>\n",
       "      <th></th>\n",
       "      <th></th>\n",
       "      <th></th>\n",
       "      <th></th>\n",
       "      <th></th>\n",
       "      <th></th>\n",
       "    </tr>\n",
       "  </thead>\n",
       "  <tbody>\n",
       "    <tr>\n",
       "      <th>80%</th>\n",
       "      <td>28.869</td>\n",
       "      <td>0.861</td>\n",
       "      <td>27.765</td>\n",
       "      <td>29.972</td>\n",
       "      <td>15.324</td>\n",
       "      <td>42.413</td>\n",
       "    </tr>\n",
       "    <tr>\n",
       "      <th>95%</th>\n",
       "      <td>28.869</td>\n",
       "      <td>0.861</td>\n",
       "      <td>27.181</td>\n",
       "      <td>30.556</td>\n",
       "      <td>8.154</td>\n",
       "      <td>49.583</td>\n",
       "    </tr>\n",
       "  </tbody>\n",
       "</table>\n",
       "</div>"
      ],
      "text/plain": [
       "      mean  mean_se  mean_ci_lower  mean_ci_upper  obs_ci_lower  obs_ci_upper\n",
       "PI                                                                           \n",
       "80% 28.869    0.861         27.765         29.972        15.324        42.413\n",
       "95% 28.869    0.861         27.181         30.556         8.154        49.583"
      ]
     },
     "execution_count": 38,
     "metadata": {},
     "output_type": "execute_result"
    }
   ],
   "source": [
    "# Assigning first prediction to p1 and displaying prediction results, p1_95 with a 95% prediction interval and p1_80 with 80%\n",
    "p1_95 = reg3.get_prediction(pv).summary_frame()\n",
    "p1_80 = reg3.get_prediction(pv).summary_frame(alpha=.2)\n",
    "\n",
    "df = pd.concat([p1_95, p1_80], axis=0, keys=['95%', '80%']).reset_index().groupby('level_0').value_counts().reset_index()\n",
    "df.drop(columns=['level_1', 'count'], inplace=True)\n",
    "df.rename(columns={'level_0': 'PI'}, inplace=True)\n",
    "df.set_index('PI')"
   ]
  },
  {
   "cell_type": "markdown",
   "id": "9097c3ee-c450-4b6b-aa77-eb7659d4bbd6",
   "metadata": {},
   "source": [
    "From the prediction results based on the values that were inputted, based on model 3, we can see that the average predicted hourly wage of a woman who is black, 35, and has a bachelor's degree (nothing higher) and who is a union member is 28.89/hr. Of note, the prediction intervals are quite disparate for both the 80% and 95% values, with the 80% CI being between 15.32/hr and 42.41/hr and the 95% between 8.15/hr and 49.58/hr.\n",
    "***\n",
    "#### Prediction 2\n",
    "Now we will make another prediction with the same values only changing the union membership to 'No'"
   ]
  },
  {
   "cell_type": "code",
   "execution_count": 39,
   "id": "76f08b54-78c0-4486-972a-d706a05b645d",
   "metadata": {
    "tags": []
   },
   "outputs": [
    {
     "data": {
      "text/html": [
       "<div>\n",
       "<style scoped>\n",
       "    .dataframe tbody tr th:only-of-type {\n",
       "        vertical-align: middle;\n",
       "    }\n",
       "\n",
       "    .dataframe tbody tr th {\n",
       "        vertical-align: top;\n",
       "    }\n",
       "\n",
       "    .dataframe thead th {\n",
       "        text-align: right;\n",
       "    }\n",
       "</style>\n",
       "<table border=\"1\" class=\"dataframe\">\n",
       "  <thead>\n",
       "    <tr style=\"text-align: right;\">\n",
       "      <th></th>\n",
       "      <th>mean</th>\n",
       "      <th>mean_se</th>\n",
       "      <th>mean_ci_lower</th>\n",
       "      <th>mean_ci_upper</th>\n",
       "      <th>obs_ci_lower</th>\n",
       "      <th>obs_ci_upper</th>\n",
       "    </tr>\n",
       "    <tr>\n",
       "      <th>PI</th>\n",
       "      <th></th>\n",
       "      <th></th>\n",
       "      <th></th>\n",
       "      <th></th>\n",
       "      <th></th>\n",
       "      <th></th>\n",
       "    </tr>\n",
       "  </thead>\n",
       "  <tbody>\n",
       "    <tr>\n",
       "      <th>80%</th>\n",
       "      <td>24.533</td>\n",
       "      <td>0.682</td>\n",
       "      <td>23.660</td>\n",
       "      <td>25.407</td>\n",
       "      <td>11.006</td>\n",
       "      <td>38.061</td>\n",
       "    </tr>\n",
       "    <tr>\n",
       "      <th>95%</th>\n",
       "      <td>24.533</td>\n",
       "      <td>0.682</td>\n",
       "      <td>23.197</td>\n",
       "      <td>25.869</td>\n",
       "      <td>3.845</td>\n",
       "      <td>45.222</td>\n",
       "    </tr>\n",
       "  </tbody>\n",
       "</table>\n",
       "</div>"
      ],
      "text/plain": [
       "      mean  mean_se  mean_ci_lower  mean_ci_upper  obs_ci_lower  obs_ci_upper\n",
       "PI                                                                           \n",
       "80% 24.533    0.682         23.660         25.407        11.006        38.061\n",
       "95% 24.533    0.682         23.197         25.869         3.845        45.222"
      ]
     },
     "execution_count": 39,
     "metadata": {},
     "output_type": "execute_result"
    }
   ],
   "source": [
    "# Changing union membership to no and running prediction\n",
    "pv2 = pd.DataFrame(pd.Series({\n",
    "    \"age\":35,\n",
    "    \"agesq\":35**2,\n",
    "    \"female\":1,\n",
    "    \"no_degree\":0,\n",
    "    \"associate\":0,\n",
    "    \"higher_edu\":0,\n",
    "    \"black\":1,\n",
    "    \"asian\":0,\n",
    "    \"hispanic\":0,\n",
    "    \"unionmme\":0,\n",
    "    \"hrwage\":np.nan,\n",
    "})).T\n",
    "\n",
    "p2_95 = reg3.get_prediction(pv2).summary_frame()\n",
    "p2_80 = reg3.get_prediction(pv2).summary_frame(alpha=.2)\n",
    "\n",
    "df2 = pd.concat([p2_95, p2_80], axis=0, keys=['95%', '80%']).reset_index().groupby('level_0').value_counts().reset_index()\n",
    "df2.drop(columns=['level_1', 'count'], inplace=True)\n",
    "df2.rename(columns={'level_0': 'PI'}, inplace=True)\n",
    "df2.set_index('PI')"
   ]
  },
  {
   "cell_type": "markdown",
   "id": "88a2dcbe-9c6c-4b8a-92ef-646b84863e45",
   "metadata": {},
   "source": [
    "Here we can see that by simply changing the union membership value to 'No' the average predicted hourly wage drops to 24.53. The prediction interval remains large.**\n",
    "***\n",
    "#### Prediction 3\n",
    "Another more prediction will be run this time using the following values:\n",
    "- Age: 31\n",
    "- Sex: Female\n",
    "- Race: White\n",
    "- Union Member: No\n",
    "- Bacherlors: Yes\n",
    "\n",
    "These values are being used in comparison due to the sample size being larger for these predictive values"
   ]
  },
  {
   "cell_type": "code",
   "execution_count": 40,
   "id": "0359a324-087f-4ca4-81d7-aa13e4fd151b",
   "metadata": {
    "tags": []
   },
   "outputs": [
    {
     "data": {
      "text/html": [
       "<div>\n",
       "<style scoped>\n",
       "    .dataframe tbody tr th:only-of-type {\n",
       "        vertical-align: middle;\n",
       "    }\n",
       "\n",
       "    .dataframe tbody tr th {\n",
       "        vertical-align: top;\n",
       "    }\n",
       "\n",
       "    .dataframe thead th {\n",
       "        text-align: right;\n",
       "    }\n",
       "</style>\n",
       "<table border=\"1\" class=\"dataframe\">\n",
       "  <thead>\n",
       "    <tr style=\"text-align: right;\">\n",
       "      <th></th>\n",
       "      <th>mean</th>\n",
       "      <th>mean_se</th>\n",
       "      <th>mean_ci_lower</th>\n",
       "      <th>mean_ci_upper</th>\n",
       "      <th>obs_ci_lower</th>\n",
       "      <th>obs_ci_upper</th>\n",
       "    </tr>\n",
       "    <tr>\n",
       "      <th>PI</th>\n",
       "      <th></th>\n",
       "      <th></th>\n",
       "      <th></th>\n",
       "      <th></th>\n",
       "      <th></th>\n",
       "      <th></th>\n",
       "    </tr>\n",
       "  </thead>\n",
       "  <tbody>\n",
       "    <tr>\n",
       "      <th>80%</th>\n",
       "      <td>27.584</td>\n",
       "      <td>0.302</td>\n",
       "      <td>27.198</td>\n",
       "      <td>27.971</td>\n",
       "      <td>14.079</td>\n",
       "      <td>41.089</td>\n",
       "    </tr>\n",
       "    <tr>\n",
       "      <th>95%</th>\n",
       "      <td>27.584</td>\n",
       "      <td>0.302</td>\n",
       "      <td>26.993</td>\n",
       "      <td>28.175</td>\n",
       "      <td>6.930</td>\n",
       "      <td>48.238</td>\n",
       "    </tr>\n",
       "  </tbody>\n",
       "</table>\n",
       "</div>"
      ],
      "text/plain": [
       "      mean  mean_se  mean_ci_lower  mean_ci_upper  obs_ci_lower  obs_ci_upper\n",
       "PI                                                                           \n",
       "80% 27.584    0.302         27.198         27.971        14.079        41.089\n",
       "95% 27.584    0.302         26.993         28.175         6.930        48.238"
      ]
     },
     "execution_count": 40,
     "metadata": {},
     "output_type": "execute_result"
    }
   ],
   "source": [
    "# Creating predictive values described above\n",
    "pv3 = pd.DataFrame(pd.Series({\n",
    "    \"age\":31,\n",
    "    \"agesq\":31**2,\n",
    "    \"female\":1,\n",
    "    \"no_degree\":0,\n",
    "    \"associate\":0,\n",
    "    \"higher_edu\":0,\n",
    "    \"black\":0,\n",
    "    \"asian\":0,\n",
    "    \"hispanic\":0,\n",
    "    \"unionmme\":0,\n",
    "    \"hrwage\":np.nan,\n",
    "})).T\n",
    "\n",
    "p3_95 = reg3.get_prediction(pv3).summary_frame()\n",
    "p3_80 = reg3.get_prediction(pv3).summary_frame(alpha=.2)\n",
    "\n",
    "df3 = pd.concat([p3_95, p3_80], axis=0, keys=['95%', '80%']).reset_index().groupby('level_0').value_counts().reset_index()\n",
    "df3.drop(columns=['level_1', 'count'], inplace=True)\n",
    "df3.rename(columns={'level_0': 'PI'}, inplace=True)\n",
    "df3.set_index('PI')"
   ]
  },
  {
   "cell_type": "markdown",
   "id": "237913f8-3f7f-498f-a2c4-cadec0e0bec4",
   "metadata": {},
   "source": [
    "With these new predictive values we have a mean hourly wage of 27.58. The prediction intervals remain large."
   ]
  },
  {
   "cell_type": "markdown",
   "id": "efc7cb8d-d8ee-4f91-b834-e57f8c2fc1e1",
   "metadata": {},
   "source": [
    "***\n",
    "#### Prediction 4\n",
    "Using the values from prediction 1, we will instead view the values of race as White instead of Black"
   ]
  },
  {
   "cell_type": "code",
   "execution_count": 41,
   "id": "a896f67d-4372-4933-af8f-27eb1f8656ec",
   "metadata": {
    "tags": []
   },
   "outputs": [
    {
     "data": {
      "text/html": [
       "<div>\n",
       "<style scoped>\n",
       "    .dataframe tbody tr th:only-of-type {\n",
       "        vertical-align: middle;\n",
       "    }\n",
       "\n",
       "    .dataframe tbody tr th {\n",
       "        vertical-align: top;\n",
       "    }\n",
       "\n",
       "    .dataframe thead th {\n",
       "        text-align: right;\n",
       "    }\n",
       "</style>\n",
       "<table border=\"1\" class=\"dataframe\">\n",
       "  <thead>\n",
       "    <tr style=\"text-align: right;\">\n",
       "      <th></th>\n",
       "      <th>mean</th>\n",
       "      <th>mean_se</th>\n",
       "      <th>mean_ci_lower</th>\n",
       "      <th>mean_ci_upper</th>\n",
       "      <th>obs_ci_lower</th>\n",
       "      <th>obs_ci_upper</th>\n",
       "    </tr>\n",
       "    <tr>\n",
       "      <th>PI</th>\n",
       "      <th></th>\n",
       "      <th></th>\n",
       "      <th></th>\n",
       "      <th></th>\n",
       "      <th></th>\n",
       "      <th></th>\n",
       "    </tr>\n",
       "  </thead>\n",
       "  <tbody>\n",
       "    <tr>\n",
       "      <th>80%</th>\n",
       "      <td>33.359</td>\n",
       "      <td>0.646</td>\n",
       "      <td>32.531</td>\n",
       "      <td>34.187</td>\n",
       "      <td>19.835</td>\n",
       "      <td>46.884</td>\n",
       "    </tr>\n",
       "    <tr>\n",
       "      <th>95%</th>\n",
       "      <td>33.359</td>\n",
       "      <td>0.646</td>\n",
       "      <td>32.093</td>\n",
       "      <td>34.626</td>\n",
       "      <td>12.675</td>\n",
       "      <td>54.044</td>\n",
       "    </tr>\n",
       "  </tbody>\n",
       "</table>\n",
       "</div>"
      ],
      "text/plain": [
       "      mean  mean_se  mean_ci_lower  mean_ci_upper  obs_ci_lower  obs_ci_upper\n",
       "PI                                                                           \n",
       "80% 33.359    0.646         32.531         34.187        19.835        46.884\n",
       "95% 33.359    0.646         32.093         34.626        12.675        54.044"
      ]
     },
     "execution_count": 41,
     "metadata": {},
     "output_type": "execute_result"
    }
   ],
   "source": [
    "# Creating predictive values described above\n",
    "pv3 = pd.DataFrame(pd.Series({\n",
    "    \"age\":35,\n",
    "    \"agesq\":35**2,\n",
    "    \"female\":1,\n",
    "    \"no_degree\":0,\n",
    "    \"associate\":0,\n",
    "    \"higher_edu\":0,\n",
    "    \"black\":0,\n",
    "    \"asian\":0,\n",
    "    \"hispanic\":0,\n",
    "    \"unionmme\":1,\n",
    "    \"hrwage\":np.nan,\n",
    "})).T\n",
    "\n",
    "p3_95 = reg3.get_prediction(pv3).summary_frame()\n",
    "p3_80 = reg3.get_prediction(pv3).summary_frame(alpha=.2)\n",
    "\n",
    "df3 = pd.concat([p3_95, p3_80], axis=0, keys=['95%', '80%']).reset_index().groupby('level_0').value_counts().reset_index()\n",
    "df3.drop(columns=['level_1', 'count'], inplace=True)\n",
    "df3.rename(columns={'level_0': 'PI'}, inplace=True)\n",
    "df3.set_index('PI')"
   ]
  },
  {
   "cell_type": "markdown",
   "id": "1e0bbf1b-3e95-4b1e-9af1-09ef9cde4967",
   "metadata": {},
   "source": [
    "Here we can see that only changing the race viewed as 'White' has increased the mean hourly wages to $33.36/hr. This denotes an effect of race on predicted wages"
   ]
  },
  {
   "cell_type": "markdown",
   "id": "8d75d84e-401e-4f03-9f6b-fcb690fd8b43",
   "metadata": {},
   "source": [
    "***\n",
    "#### Predictive Comparisons\n",
    "For reference, a comparison in predictions will be made between Model 1 and Model 3 using the predictive values from pv3"
   ]
  },
  {
   "cell_type": "code",
   "execution_count": 42,
   "id": "c6c735aa-a27a-49f5-8451-00105b2b638f",
   "metadata": {
    "tags": []
   },
   "outputs": [
    {
     "data": {
      "text/html": [
       "<div>\n",
       "<style scoped>\n",
       "    .dataframe tbody tr th:only-of-type {\n",
       "        vertical-align: middle;\n",
       "    }\n",
       "\n",
       "    .dataframe tbody tr th {\n",
       "        vertical-align: top;\n",
       "    }\n",
       "\n",
       "    .dataframe thead th {\n",
       "        text-align: right;\n",
       "    }\n",
       "</style>\n",
       "<table border=\"1\" class=\"dataframe\">\n",
       "  <thead>\n",
       "    <tr style=\"text-align: right;\">\n",
       "      <th></th>\n",
       "      <th>Model1</th>\n",
       "      <th>Model3</th>\n",
       "    </tr>\n",
       "    <tr>\n",
       "      <th></th>\n",
       "      <th></th>\n",
       "      <th></th>\n",
       "    </tr>\n",
       "  </thead>\n",
       "  <tbody>\n",
       "    <tr>\n",
       "      <th>Predicted</th>\n",
       "      <td>27.738</td>\n",
       "      <td>33.359</td>\n",
       "    </tr>\n",
       "    <tr>\n",
       "      <th>PI_low(80%)</th>\n",
       "      <td>13.512</td>\n",
       "      <td>19.835</td>\n",
       "    </tr>\n",
       "    <tr>\n",
       "      <th>PI_high(80%)</th>\n",
       "      <td>41.964</td>\n",
       "      <td>46.884</td>\n",
       "    </tr>\n",
       "  </tbody>\n",
       "</table>\n",
       "</div>"
      ],
      "text/plain": [
       "              Model1  Model3\n",
       "                            \n",
       "Predicted     27.738  33.359\n",
       "PI_low(80%)   13.512  19.835\n",
       "PI_high(80%)  41.964  46.884"
      ]
     },
     "execution_count": 42,
     "metadata": {},
     "output_type": "execute_result"
    }
   ],
   "source": [
    "# Generating an 80% CI comparison between models\n",
    "p4 = reg1.get_prediction(pv3).summary_frame(alpha=.2)\n",
    "\n",
    "pd.DataFrame(\n",
    "    {\n",
    "        \" \": [\"Predicted\", \"PI_low(80%)\", \"PI_high(80%)\"],\n",
    "        \"Model1\": p4[[\"mean\", \"obs_ci_lower\", \"obs_ci_upper\"]].values.tolist()[0],\n",
    "        \"Model3\": p3_80[[\"mean\", \"obs_ci_lower\", \"obs_ci_upper\"]].values.tolist()[0],\n",
    "    }\n",
    ").set_index(\" \")"
   ]
  },
  {
   "cell_type": "code",
   "execution_count": 43,
   "id": "6d5e2e71-539d-4e69-b767-3f7e6d86fa84",
   "metadata": {
    "tags": []
   },
   "outputs": [
    {
     "data": {
      "text/html": [
       "<div>\n",
       "<style scoped>\n",
       "    .dataframe tbody tr th:only-of-type {\n",
       "        vertical-align: middle;\n",
       "    }\n",
       "\n",
       "    .dataframe tbody tr th {\n",
       "        vertical-align: top;\n",
       "    }\n",
       "\n",
       "    .dataframe thead th {\n",
       "        text-align: right;\n",
       "    }\n",
       "</style>\n",
       "<table border=\"1\" class=\"dataframe\">\n",
       "  <thead>\n",
       "    <tr style=\"text-align: right;\">\n",
       "      <th></th>\n",
       "      <th>Model1</th>\n",
       "      <th>Model3</th>\n",
       "    </tr>\n",
       "    <tr>\n",
       "      <th></th>\n",
       "      <th></th>\n",
       "      <th></th>\n",
       "    </tr>\n",
       "  </thead>\n",
       "  <tbody>\n",
       "    <tr>\n",
       "      <th>Predicted</th>\n",
       "      <td>27.738</td>\n",
       "      <td>33.359</td>\n",
       "    </tr>\n",
       "    <tr>\n",
       "      <th>PI_low(95%)</th>\n",
       "      <td>5.981</td>\n",
       "      <td>12.675</td>\n",
       "    </tr>\n",
       "    <tr>\n",
       "      <th>PI_high(95%)</th>\n",
       "      <td>49.495</td>\n",
       "      <td>54.044</td>\n",
       "    </tr>\n",
       "  </tbody>\n",
       "</table>\n",
       "</div>"
      ],
      "text/plain": [
       "              Model1  Model3\n",
       "                            \n",
       "Predicted     27.738  33.359\n",
       "PI_low(95%)    5.981  12.675\n",
       "PI_high(95%)  49.495  54.044"
      ]
     },
     "execution_count": 43,
     "metadata": {},
     "output_type": "execute_result"
    }
   ],
   "source": [
    "# Generating a 95% CI comparison between models\n",
    "p5 = reg1.get_prediction(pv3).summary_frame()\n",
    "\n",
    "pd.DataFrame(\n",
    "    {\n",
    "        \" \": [\"Predicted\", \"PI_low(95%)\", \"PI_high(95%)\"],\n",
    "        \"Model1\": p5[[\"mean\", \"obs_ci_lower\", \"obs_ci_upper\"]].values.tolist()[0],\n",
    "        \"Model3\": p3_95[[\"mean\", \"obs_ci_lower\", \"obs_ci_upper\"]].values.tolist()[0],\n",
    "    }\n",
    ").set_index(\" \")"
   ]
  },
  {
   "cell_type": "markdown",
   "id": "6d063176-9203-48c2-b9d6-0b46315f8d95",
   "metadata": {},
   "source": [
    "From the comparison of models we can see that there is a difference in the predicted values from the simplest model (model 1) to the more complex model (model 3). The prediction intervals are smaller, albeit slightly, and model 3 predicts a higher mean hourly wage average."
   ]
  }
 ],
 "metadata": {
  "kernelspec": {
   "display_name": "Python 3 (ipykernel)",
   "language": "python",
   "name": "python3"
  },
  "language_info": {
   "codemirror_mode": {
    "name": "ipython",
    "version": 3
   },
   "file_extension": ".py",
   "mimetype": "text/x-python",
   "name": "python",
   "nbconvert_exporter": "python",
   "pygments_lexer": "ipython3",
   "version": "3.11.5"
  }
 },
 "nbformat": 4,
 "nbformat_minor": 5
}
