{
 "cells": [
  {
   "cell_type": "markdown",
   "id": "5924314c-5f68-4251-8d98-62c8f18441a0",
   "metadata": {},
   "source": [
    "# DA3 Assignment 1\n",
    "Nicolas Fernandez"
   ]
  },
  {
   "cell_type": "code",
   "execution_count": 1,
   "id": "aa5e2ee5-3868-4740-9c85-3b84029c78a6",
   "metadata": {
    "tags": []
   },
   "outputs": [],
   "source": [
    "# Importing libraries\n",
    "import warnings\n",
    "warnings.filterwarnings('ignore')\n",
    "\n",
    "import pandas as pd\n",
    "import seaborn as sns\n",
    "import matplotlib.pyplot as plt\n",
    "from mizani.formatters import percent_format\n",
    "import os\n",
    "from plotnine import *\n",
    "import numpy as np\n",
    "import sys\n",
    "import numpy as np\n",
    "import statsmodels.api as sm\n",
    "import statsmodels.formula.api as smf\n",
    "from stargazer import stargazer\n",
    "from statsmodels.tools.eval_measures import mse,rmse"
   ]
  },
  {
   "cell_type": "code",
   "execution_count": 2,
   "id": "826a70c0-ed51-48c8-90b9-a7c7ee67c0ee",
   "metadata": {
    "tags": []
   },
   "outputs": [
    {
     "name": "stdout",
     "output_type": "stream",
     "text": [
      "(149316, 23)\n"
     ]
    },
    {
     "data": {
      "text/html": [
       "<div>\n",
       "<style scoped>\n",
       "    .dataframe tbody tr th:only-of-type {\n",
       "        vertical-align: middle;\n",
       "    }\n",
       "\n",
       "    .dataframe tbody tr th {\n",
       "        vertical-align: top;\n",
       "    }\n",
       "\n",
       "    .dataframe thead th {\n",
       "        text-align: right;\n",
       "    }\n",
       "</style>\n",
       "<table border=\"1\" class=\"dataframe\">\n",
       "  <thead>\n",
       "    <tr style=\"text-align: right;\">\n",
       "      <th></th>\n",
       "      <th>Unnamed: 0</th>\n",
       "      <th>hhid</th>\n",
       "      <th>intmonth</th>\n",
       "      <th>stfips</th>\n",
       "      <th>weight</th>\n",
       "      <th>earnwke</th>\n",
       "      <th>uhours</th>\n",
       "      <th>grade92</th>\n",
       "      <th>race</th>\n",
       "      <th>ethnic</th>\n",
       "      <th>...</th>\n",
       "      <th>ownchild</th>\n",
       "      <th>chldpres</th>\n",
       "      <th>prcitshp</th>\n",
       "      <th>state</th>\n",
       "      <th>ind02</th>\n",
       "      <th>occ2012</th>\n",
       "      <th>class</th>\n",
       "      <th>unionmme</th>\n",
       "      <th>unioncov</th>\n",
       "      <th>lfsr94</th>\n",
       "    </tr>\n",
       "  </thead>\n",
       "  <tbody>\n",
       "    <tr>\n",
       "      <th>0</th>\n",
       "      <td>3</td>\n",
       "      <td>2600310997690</td>\n",
       "      <td>January</td>\n",
       "      <td>AL</td>\n",
       "      <td>3151.6801</td>\n",
       "      <td>1692.00</td>\n",
       "      <td>40</td>\n",
       "      <td>43</td>\n",
       "      <td>1</td>\n",
       "      <td>NaN</td>\n",
       "      <td>...</td>\n",
       "      <td>0</td>\n",
       "      <td>0</td>\n",
       "      <td>Native, Born In US</td>\n",
       "      <td>63</td>\n",
       "      <td>Employment services (5613)</td>\n",
       "      <td>630</td>\n",
       "      <td>Private, For Profit</td>\n",
       "      <td>No</td>\n",
       "      <td>No</td>\n",
       "      <td>Employed-At Work</td>\n",
       "    </tr>\n",
       "    <tr>\n",
       "      <th>1</th>\n",
       "      <td>5</td>\n",
       "      <td>75680310997590</td>\n",
       "      <td>January</td>\n",
       "      <td>AL</td>\n",
       "      <td>3457.1138</td>\n",
       "      <td>450.00</td>\n",
       "      <td>40</td>\n",
       "      <td>41</td>\n",
       "      <td>2</td>\n",
       "      <td>NaN</td>\n",
       "      <td>...</td>\n",
       "      <td>2</td>\n",
       "      <td>6</td>\n",
       "      <td>Native, Born In US</td>\n",
       "      <td>63</td>\n",
       "      <td>Outpatient care centers (6214)</td>\n",
       "      <td>5400</td>\n",
       "      <td>Private, For Profit</td>\n",
       "      <td>No</td>\n",
       "      <td>No</td>\n",
       "      <td>Employed-Absent</td>\n",
       "    </tr>\n",
       "    <tr>\n",
       "      <th>2</th>\n",
       "      <td>6</td>\n",
       "      <td>75680310997590</td>\n",
       "      <td>January</td>\n",
       "      <td>AL</td>\n",
       "      <td>3936.9110</td>\n",
       "      <td>1090.00</td>\n",
       "      <td>60</td>\n",
       "      <td>41</td>\n",
       "      <td>2</td>\n",
       "      <td>NaN</td>\n",
       "      <td>...</td>\n",
       "      <td>2</td>\n",
       "      <td>6</td>\n",
       "      <td>Native, Born In US</td>\n",
       "      <td>63</td>\n",
       "      <td>Motor vehicles and motor vehicle equipment man...</td>\n",
       "      <td>8140</td>\n",
       "      <td>Private, For Profit</td>\n",
       "      <td>No</td>\n",
       "      <td>No</td>\n",
       "      <td>Employed-At Work</td>\n",
       "    </tr>\n",
       "    <tr>\n",
       "      <th>3</th>\n",
       "      <td>10</td>\n",
       "      <td>179140131100930</td>\n",
       "      <td>January</td>\n",
       "      <td>AL</td>\n",
       "      <td>3288.3640</td>\n",
       "      <td>769.23</td>\n",
       "      <td>40</td>\n",
       "      <td>40</td>\n",
       "      <td>1</td>\n",
       "      <td>NaN</td>\n",
       "      <td>...</td>\n",
       "      <td>2</td>\n",
       "      <td>4</td>\n",
       "      <td>Native, Born In US</td>\n",
       "      <td>63</td>\n",
       "      <td>**Publishing, except newspapers and software (...</td>\n",
       "      <td>8255</td>\n",
       "      <td>Private, For Profit</td>\n",
       "      <td>Yes</td>\n",
       "      <td>NaN</td>\n",
       "      <td>Employed-At Work</td>\n",
       "    </tr>\n",
       "    <tr>\n",
       "      <th>4</th>\n",
       "      <td>11</td>\n",
       "      <td>179140131100930</td>\n",
       "      <td>January</td>\n",
       "      <td>AL</td>\n",
       "      <td>3422.8500</td>\n",
       "      <td>826.92</td>\n",
       "      <td>40</td>\n",
       "      <td>43</td>\n",
       "      <td>1</td>\n",
       "      <td>NaN</td>\n",
       "      <td>...</td>\n",
       "      <td>2</td>\n",
       "      <td>4</td>\n",
       "      <td>Native, Born In US</td>\n",
       "      <td>63</td>\n",
       "      <td>Banking and related activities (521, 52211,52219)</td>\n",
       "      <td>5940</td>\n",
       "      <td>Private, For Profit</td>\n",
       "      <td>No</td>\n",
       "      <td>No</td>\n",
       "      <td>Employed-At Work</td>\n",
       "    </tr>\n",
       "  </tbody>\n",
       "</table>\n",
       "<p>5 rows × 23 columns</p>\n",
       "</div>"
      ],
      "text/plain": [
       "   Unnamed: 0             hhid intmonth stfips     weight  earnwke  uhours  \\\n",
       "0           3    2600310997690  January     AL  3151.6801  1692.00      40   \n",
       "1           5   75680310997590  January     AL  3457.1138   450.00      40   \n",
       "2           6   75680310997590  January     AL  3936.9110  1090.00      60   \n",
       "3          10  179140131100930  January     AL  3288.3640   769.23      40   \n",
       "4          11  179140131100930  January     AL  3422.8500   826.92      40   \n",
       "\n",
       "   grade92  race  ethnic  ...  ownchild  chldpres            prcitshp  state  \\\n",
       "0       43     1     NaN  ...         0         0  Native, Born In US     63   \n",
       "1       41     2     NaN  ...         2         6  Native, Born In US     63   \n",
       "2       41     2     NaN  ...         2         6  Native, Born In US     63   \n",
       "3       40     1     NaN  ...         2         4  Native, Born In US     63   \n",
       "4       43     1     NaN  ...         2         4  Native, Born In US     63   \n",
       "\n",
       "                                               ind02 occ2012  \\\n",
       "0                         Employment services (5613)     630   \n",
       "1                     Outpatient care centers (6214)    5400   \n",
       "2  Motor vehicles and motor vehicle equipment man...    8140   \n",
       "3  **Publishing, except newspapers and software (...    8255   \n",
       "4  Banking and related activities (521, 52211,52219)    5940   \n",
       "\n",
       "                 class unionmme  unioncov            lfsr94  \n",
       "0  Private, For Profit       No        No  Employed-At Work  \n",
       "1  Private, For Profit       No        No   Employed-Absent  \n",
       "2  Private, For Profit       No        No  Employed-At Work  \n",
       "3  Private, For Profit      Yes       NaN  Employed-At Work  \n",
       "4  Private, For Profit       No        No  Employed-At Work  \n",
       "\n",
       "[5 rows x 23 columns]"
      ]
     },
     "execution_count": 2,
     "metadata": {},
     "output_type": "execute_result"
    }
   ],
   "source": [
    "# Importing dataset, printing shape and showing first 5 observations\n",
    "data = pd.read_csv('morg-2014-emp.csv')\n",
    "print(data.shape)\n",
    "data.head()"
   ]
  },
  {
   "cell_type": "markdown",
   "id": "ef3d6f2c-d8b3-412d-a003-3d3839083940",
   "metadata": {},
   "source": [
    "## Selecting Occupation\n",
    "Registered nurses were selected for an analysis of predictive models of hourly wage. The number of observations are 3455, occupation code 3255 per census data"
   ]
  },
  {
   "cell_type": "code",
   "execution_count": 3,
   "id": "4e2d981e-4d6e-4d87-aada-e75e329a7192",
   "metadata": {
    "tags": []
   },
   "outputs": [
    {
     "name": "stdout",
     "output_type": "stream",
     "text": [
      "(3455, 23)\n",
      "<class 'pandas.core.frame.DataFrame'>\n",
      "Index: 3455 entries, 37 to 149242\n",
      "Data columns (total 23 columns):\n",
      " #   Column      Non-Null Count  Dtype  \n",
      "---  ------      --------------  -----  \n",
      " 0   Unnamed: 0  3455 non-null   int64  \n",
      " 1   hhid        3455 non-null   int64  \n",
      " 2   intmonth    3455 non-null   object \n",
      " 3   stfips      3455 non-null   object \n",
      " 4   weight      3455 non-null   float64\n",
      " 5   earnwke     3455 non-null   float64\n",
      " 6   uhours      3455 non-null   int64  \n",
      " 7   grade92     3455 non-null   int64  \n",
      " 8   race        3455 non-null   int64  \n",
      " 9   ethnic      191 non-null    float64\n",
      " 10  age         3455 non-null   int64  \n",
      " 11  sex         3455 non-null   int64  \n",
      " 12  marital     3455 non-null   int64  \n",
      " 13  ownchild    3455 non-null   int64  \n",
      " 14  chldpres    3455 non-null   int64  \n",
      " 15  prcitshp    3455 non-null   object \n",
      " 16  state       3455 non-null   object \n",
      " 17  ind02       3455 non-null   object \n",
      " 18  occ2012     3455 non-null   int64  \n",
      " 19  class       3455 non-null   object \n",
      " 20  unionmme    3455 non-null   object \n",
      " 21  unioncov    2845 non-null   object \n",
      " 22  lfsr94      3455 non-null   object \n",
      "dtypes: float64(3), int64(11), object(9)\n",
      "memory usage: 647.8+ KB\n"
     ]
    }
   ],
   "source": [
    "# Selecting Registed Nurses as the occupation and assigning it to a new df rnurses, showing the amount of observations and checking column info\n",
    "rnurses = data.loc[data['occ2012'] == 3255]\n",
    "print(rnurses.shape)\n",
    "rnurses.info()"
   ]
  },
  {
   "cell_type": "markdown",
   "id": "db3945d6-4816-47be-9b3b-3bcd4971cbb3",
   "metadata": {},
   "source": [
    "## Feature Engineering\n",
    "Examination of data and creation of binary/dummy variables and/or transforming data"
   ]
  },
  {
   "cell_type": "code",
   "execution_count": 4,
   "id": "503d8dc0-a5a2-425e-b8fa-27d03454f8fc",
   "metadata": {
    "tags": []
   },
   "outputs": [],
   "source": [
    "# Creating hourly wage variable, and quadratic variable for age\n",
    "rnurses['hrwage'] = rnurses['earnwke'] / rnurses['uhours']\n",
    "rnurses['agesq'] = rnurses['age'] ** 2"
   ]
  },
  {
   "cell_type": "code",
   "execution_count": 5,
   "id": "2c6252ca-431a-461b-86d8-6ed28423395d",
   "metadata": {
    "tags": []
   },
   "outputs": [
    {
     "data": {
      "text/plain": [
       "race\n",
       "1     2837\n",
       "2      320\n",
       "4      249\n",
       "5       12\n",
       "3       11\n",
       "6        8\n",
       "7        8\n",
       "8        3\n",
       "9        3\n",
       "13       1\n",
       "21       1\n",
       "16       1\n",
       "10       1\n",
       "Name: count, dtype: int64"
      ]
     },
     "execution_count": 5,
     "metadata": {},
     "output_type": "execute_result"
    }
   ],
   "source": [
    "# Checking race column value counts\n",
    "rnurses['race'].value_counts()"
   ]
  },
  {
   "cell_type": "code",
   "execution_count": 6,
   "id": "870174c0-c2ae-414b-a5fd-af0fd90f25a0",
   "metadata": {
    "tags": []
   },
   "outputs": [],
   "source": [
    "# According to dataset, 1=white, 2=black, and 4=asian. Creating dummy variables to account for black and asian\n",
    "rnurses['black'] = (rnurses['race'] == 2).astype(int)\n",
    "rnurses['asian'] = (rnurses['race'] == 4).astype(int)"
   ]
  },
  {
   "cell_type": "code",
   "execution_count": 7,
   "id": "832f2c8c-f761-45c8-9a45-ba3c50dd8a31",
   "metadata": {
    "tags": []
   },
   "outputs": [
    {
     "data": {
      "text/plain": [
       "sex\n",
       "2    3125\n",
       "1     330\n",
       "Name: count, dtype: int64"
      ]
     },
     "execution_count": 7,
     "metadata": {},
     "output_type": "execute_result"
    }
   ],
   "source": [
    "# Checking sex column value counts\n",
    "rnurses['sex'].value_counts()"
   ]
  },
  {
   "cell_type": "code",
   "execution_count": 8,
   "id": "bed31767-e789-43dc-b13a-4dc46877d5e1",
   "metadata": {
    "tags": []
   },
   "outputs": [],
   "source": [
    "# 1 = male, 2 = female. Creating `female` dummy variable\n",
    "rnurses['female'] = (rnurses['sex'] == 2).astype(int)"
   ]
  },
  {
   "cell_type": "code",
   "execution_count": 9,
   "id": "8cbde4b0-8337-4208-af9c-4f606adcac81",
   "metadata": {
    "tags": []
   },
   "outputs": [
    {
     "data": {
      "text/plain": [
       "ownchild\n",
       "0    2009\n",
       "2     569\n",
       "1     566\n",
       "3     246\n",
       "4      54\n",
       "5       9\n",
       "6       2\n",
       "Name: count, dtype: int64"
      ]
     },
     "execution_count": 9,
     "metadata": {},
     "output_type": "execute_result"
    }
   ],
   "source": [
    "# Chceking ownchild value counts\n",
    "rnurses.ownchild.value_counts()"
   ]
  },
  {
   "cell_type": "code",
   "execution_count": 10,
   "id": "d67181f2-8cc2-42ab-9aea-7ae3592dfa7a",
   "metadata": {
    "tags": []
   },
   "outputs": [],
   "source": [
    "# Creating dummy variables for number of children present\n",
    "rnurses['one_child'] = (rnurses['ownchild'] == 1).astype(int) # 1 if one child present 0 if not\n",
    "rnurses['two_child'] = (rnurses['ownchild'] == 2).astype(int) # 1 if two children present 0 if not\n",
    "rnurses['three_plus_child'] = (rnurses['ownchild'] >= 3).astype(int) # 1 if three or more childred present 0 if not"
   ]
  },
  {
   "cell_type": "code",
   "execution_count": 11,
   "id": "7bcc602c-f36f-4a11-9319-94c7a241ed52",
   "metadata": {
    "tags": []
   },
   "outputs": [
    {
     "data": {
      "text/plain": [
       "marital\n",
       "1    2212\n",
       "7     590\n",
       "5     462\n",
       "6      71\n",
       "4      54\n",
       "3      38\n",
       "2      28\n",
       "Name: count, dtype: int64"
      ]
     },
     "execution_count": 11,
     "metadata": {},
     "output_type": "execute_result"
    }
   ],
   "source": [
    "# Checking marital value counts\n",
    "rnurses.marital.value_counts()"
   ]
  },
  {
   "cell_type": "code",
   "execution_count": 12,
   "id": "69118ea0-4b1d-44a3-8b02-202eccfafc00",
   "metadata": {
    "tags": []
   },
   "outputs": [],
   "source": [
    "# Numers are defined as follows: 1 and 2 = married, 3 and 6 = separated, 4 = widowed, 5 = divorced, and 7 = never married\n",
    "\n",
    "# Creating dummy variable for currently single which includes the values for 3, 6 (separated), 5 (divorced)\n",
    "rnurses['now_single'] = rnurses['marital'].isin([3, 5, 6]).astype(int)\n",
    "\n",
    "# Creating dummy variable for 7 (never married)\n",
    "rnurses['never_married'] = (rnurses['marital'] == 7).astype(int)"
   ]
  },
  {
   "cell_type": "code",
   "execution_count": 13,
   "id": "a3bec9ff-7b90-488c-bc0a-ce69fb3dbf71",
   "metadata": {
    "tags": []
   },
   "outputs": [
    {
     "data": {
      "text/plain": [
       "grade92\n",
       "43    1888\n",
       "42     624\n",
       "41     485\n",
       "44     256\n",
       "40      97\n",
       "39      44\n",
       "45      38\n",
       "46      16\n",
       "38       2\n",
       "33       1\n",
       "34       1\n",
       "31       1\n",
       "37       1\n",
       "35       1\n",
       "Name: count, dtype: int64"
      ]
     },
     "execution_count": 13,
     "metadata": {},
     "output_type": "execute_result"
    }
   ],
   "source": [
    "# Checking grade92 column value counts\n",
    "rnurses.grade92.value_counts()"
   ]
  },
  {
   "cell_type": "code",
   "execution_count": 14,
   "id": "dba29930-bbf3-4163-9908-39a1cdfb0d63",
   "metadata": {
    "tags": []
   },
   "outputs": [],
   "source": [
    "# This column measures the amount of education. 43 = bachelors degree, >43 is graduate and/or phd, 41 and 42 are associate degrees, and <41 is college not completed\n",
    "\n",
    "# Creating dummy variable for associate degrees\n",
    "rnurses['associate'] = rnurses['grade92'].isin([41, 42]).astype(int)\n",
    "\n",
    "# Creating dummy variable for higher level education (above 43)\n",
    "rnurses['higher_edu'] = (rnurses['grade92'] > 43).astype(int)\n",
    "\n",
    "# Creating dummy variable for below bachelors and associate (below 41)\n",
    "rnurses['no_degree'] = (rnurses['grade92'] < 41).astype(int)"
   ]
  },
  {
   "cell_type": "code",
   "execution_count": 15,
   "id": "58fb6e95-b50b-4ef0-8620-7df5458ebe71",
   "metadata": {
    "tags": []
   },
   "outputs": [
    {
     "data": {
      "text/plain": [
       "prcitshp\n",
       "Native, Born In US                        3012\n",
       "Foreign Born, US Cit By Naturalization     307\n",
       "Foreign Born, Not a US Citizen              98\n",
       "Native, Born Abroad Of US Parent(s)         31\n",
       "Native, Born in PR or US Outlying Area       7\n",
       "Name: count, dtype: int64"
      ]
     },
     "execution_count": 15,
     "metadata": {},
     "output_type": "execute_result"
    }
   ],
   "source": [
    "# Checking prcitshp value counts\n",
    "rnurses.prcitshp.value_counts()"
   ]
  },
  {
   "cell_type": "markdown",
   "id": "8e9460bf-1909-4820-9d84-c0623aa01f55",
   "metadata": {},
   "source": [
    "The column prcitshp shows whether or not the person in question is a native citizen, naturalized, or not a US citizen. Not deemed to be significant for this analysis given low amount of observations of non-US citizens"
   ]
  },
  {
   "cell_type": "code",
   "execution_count": 16,
   "id": "5bb003cf-0f20-478e-8706-6167f07a0112",
   "metadata": {
    "tags": []
   },
   "outputs": [
    {
     "data": {
      "text/plain": [
       "unionmme\n",
       "No     2845\n",
       "Yes     610\n",
       "Name: count, dtype: int64"
      ]
     },
     "execution_count": 16,
     "metadata": {},
     "output_type": "execute_result"
    }
   ],
   "source": [
    "# Checking unionmme value counts\n",
    "rnurses.unionmme.value_counts()"
   ]
  },
  {
   "cell_type": "code",
   "execution_count": 17,
   "id": "a902ae3f-ab25-499b-bd7a-df731977d71e",
   "metadata": {},
   "outputs": [],
   "source": [
    "# This checks whether or not the person in question is a member of a union or some union-type entity. Changing this column to a binary variable with 'Yes' = 1\n",
    "rnurses['unionmme'] = (rnurses['unionmme'] == 'Yes').astype(int)"
   ]
  },
  {
   "cell_type": "markdown",
   "id": "f78bd9bb-f936-46c6-9642-4f568a926326",
   "metadata": {
    "tags": []
   },
   "source": [
    "## Charts\n",
    "#### Wage Distribution Check"
   ]
  },
  {
   "cell_type": "code",
   "execution_count": 18,
   "id": "59cf66d2-8f21-4acb-b8ff-0a7bf1438515",
   "metadata": {
    "tags": []
   },
   "outputs": [],
   "source": [
    "# Adding magic command for matplotlib\n",
    "%matplotlib inline"
   ]
  },
  {
   "cell_type": "code",
   "execution_count": 19,
   "id": "6c06a041-431f-473c-897a-adc2a3c94e25",
   "metadata": {
    "tags": []
   },
   "outputs": [
    {
     "data": {
      "text/plain": [
       "count    3455.000000\n",
       "mean       30.222456\n",
       "std        14.427157\n",
       "min         0.000937\n",
       "25%        21.000000\n",
       "50%        28.500000\n",
       "75%        36.961500\n",
       "max       293.268750\n",
       "Name: hrwage, dtype: float64"
      ]
     },
     "execution_count": 19,
     "metadata": {},
     "output_type": "execute_result"
    }
   ],
   "source": [
    "# Descriptive stats for hourly wage\n",
    "rnurses['hrwage'].describe()"
   ]
  },
  {
   "cell_type": "code",
   "execution_count": 20,
   "id": "2d3d450a-f83f-4bf5-a02b-874f26c0645b",
   "metadata": {
    "tags": []
   },
   "outputs": [
    {
     "data": {
      "image/png": "[encoded data removed]",
      "text/plain": [
       "<Figure size 640x480 with 1 Axes>"
      ]
     },
     "metadata": {},
     "output_type": "display_data"
    }
   ],
   "source": [
    "# Checking the distribution of hourly wages\n",
    "ax = sns.histplot(rnurses, x='hrwage', stat='density')\n",
    "sns.kdeplot(rnurses, x='hrwage', color=\"red\")\n",
    "\n",
    "ax.yaxis.set_visible(False)\n",
    "plt.title('Distribution of Wages')\n",
    "plt.xlabel('Hourly Wage');"
   ]
  },
  {
   "cell_type": "markdown",
   "id": "a8b24abd-fbe8-4381-aaf7-b5828882597c",
   "metadata": {},
   "source": [
    "The distribution of hourly wages has a right skew with a couple of extreme values. For the purposes of this analysis IQR will be used to drop any values considered to be outliers"
   ]
  },
  {
   "cell_type": "markdown",
   "id": "e3f63e25-cc34-4324-bbcf-ebee83af3925",
   "metadata": {
    "tags": []
   },
   "source": [
    "#### IQR"
   ]
  },
  {
   "cell_type": "code",
   "execution_count": 21,
   "id": "e61436c1-561d-4746-952d-3d6af6f0be13",
   "metadata": {
    "tags": []
   },
   "outputs": [],
   "source": [
    "# Removing hourly wage outliers\n",
    "\n",
    "# Calculate the first quartile (Q1)\n",
    "Q1 = rnurses['hrwage'].quantile(0.25)\n",
    "\n",
    "# Calculate the third quartile (Q3)\n",
    "Q3 = rnurses['hrwage'].quantile(0.75)\n",
    "\n",
    "# Calculate the Interquartile Range (IQR)\n",
    "IQR = Q3 - Q1\n",
    "\n",
    "# Filter rows within the IQR range for a specific column\n",
    "rnurses_iqr = rnurses[(rnurses['hrwage'] >= Q1 - 1.5 * IQR) & (rnurses['hrwage'] <= Q3 + 1.5 * IQR)]"
   ]
  },
  {
   "cell_type": "code",
   "execution_count": 22,
   "id": "cdcf44a0-e751-4087-a86c-843da0bff75c",
   "metadata": {
    "tags": []
   },
   "outputs": [
    {
     "data": {
      "text/plain": [
       "count    3341.000000\n",
       "mean       28.727347\n",
       "std        11.334243\n",
       "min         0.000937\n",
       "25%        20.620000\n",
       "50%        27.884600\n",
       "75%        36.000000\n",
       "max        60.807500\n",
       "Name: hrwage, dtype: float64"
      ]
     },
     "execution_count": 22,
     "metadata": {},
     "output_type": "execute_result"
    }
   ],
   "source": [
    "# Checking descriptive statistics for hourly wage on IQR df\n",
    "rnurses_iqr['hrwage'].describe()"
   ]
  },
  {
   "cell_type": "code",
   "execution_count": 23,
   "id": "a222f6e4-daed-40fb-9ef8-595a2f22a36c",
   "metadata": {
    "tags": []
   },
   "outputs": [
    {
     "data": {
      "image/png": "[encoded data removed]",
      "text/plain": [
       "<Figure size 640x480 with 1 Axes>"
      ]
     },
     "metadata": {},
     "output_type": "display_data"
    }
   ],
   "source": [
    "# Checking distribution of hourly wages on IQR df\n",
    "ax = sns.histplot(rnurses_iqr, x='hrwage', stat='density')\n",
    "sns.kdeplot(rnurses_iqr, x='hrwage', color=\"red\")\n",
    "\n",
    "plt.xlim(0, rnurses_iqr['hrwage'].max())\n",
    "plt.title('Distribution of Wages (IQR_')\n",
    "plt.xlabel('Hourly Wage');"
   ]
  },
  {
   "cell_type": "markdown",
   "id": "fd79b0b2-783a-44d2-a15a-1ed2fb615b6d",
   "metadata": {},
   "source": [
    "The distribution of the plot is now much less skewed and approximates a normal distribution"
   ]
  },
  {
   "cell_type": "markdown",
   "id": "157cc0f8-b63a-4bd3-90b7-c530ee1c0d00",
   "metadata": {},
   "source": [
    "## Chart Regression Analysis - Non-linear (Lowess) vs Linear (OLS)\n",
    "Hourly wages on Age"
   ]
  },
  {
   "cell_type": "code",
   "execution_count": 24,
   "id": "3cfb3de4-4d83-4db5-b551-aeb8efbc7527",
   "metadata": {
    "tags": []
   },
   "outputs": [
    {
     "data": {
      "image/png": "[encoded data removed]",
      "text/plain": [
       "<Figure size 640x480 with 1 Axes>"
      ]
     },
     "metadata": {},
     "output_type": "display_data"
    }
   ],
   "source": [
    "# Lowess\n",
    "sns.regplot(rnurses_iqr, x = 'age', y = 'hrwage', marker= '.', fit_reg= True, lowess= True, line_kws = {'color':'red'})\n",
    "\n",
    "# OLS\n",
    "sns.regplot(rnurses_iqr, x = 'age', y = 'hrwage', scatter=False, line_kws={'color':'green', 'linestyle': '--'})\n",
    "\n",
    "plt.xlabel('Age')\n",
    "plt.ylabel('Hourly Wage')\n",
    "plt.legend(['Marker', 'Lowess', 'OLS']);"
   ]
  },
  {
   "cell_type": "markdown",
   "id": "1db9408d-3a10-4f39-b4b0-4fd90cddd969",
   "metadata": {},
   "source": [
    "The Lowess and OLS plots are very similar and therefore a linear model should do a good job of finding a good fit"
   ]
  },
  {
   "cell_type": "markdown",
   "id": "dc141f7a-b611-4691-8362-fb008e1eb5f7",
   "metadata": {},
   "source": [
    "## Models\n",
    "#### Model 1\n",
    "Making a simple regression of `hrwage` on `age` with `female` as an explanatory variable and `agesq` to account for potential curvature in the data. Accounting for influence of gender on the hourly wage."
   ]
  },
  {
   "cell_type": "code",
   "execution_count": 34,
   "id": "619b9b1d-3776-4e67-a59b-a4288226d318",
   "metadata": {
    "tags": []
   },
   "outputs": [],
   "source": [
    "# Creating regression for model 1\n",
    "reg1 = smf.ols('hrwage ~ age + agesq + female', data=rnurses_iqr).fit(cov_type=\"HC1\")"
   ]
  },
  {
   "cell_type": "markdown",
   "id": "3e8edcfe-242e-45f0-a61d-7616e1a48634",
   "metadata": {},
   "source": [
    "#### Model 2\n",
    "Adding education binaries as explanatory variables to account for education potentially influencing the hourly wages"
   ]
  },
  {
   "cell_type": "code",
   "execution_count": 35,
   "id": "89f392d3-c110-40be-b9a9-11af3448aabc",
   "metadata": {
    "tags": []
   },
   "outputs": [],
   "source": [
    "# Creating regression for model 2\n",
    "reg2 = smf.ols('hrwage ~ age + agesq + female + no_degree + associate + higher_edu', data=rnurses_iqr).fit(cov_type=\"HC1\")"
   ]
  },
  {
   "cell_type": "markdown",
   "id": "bb7581de-8070-4d8f-8e71-3dc3568ff5c9",
   "metadata": {},
   "source": [
    "#### Model 3\n",
    "Adding race binary variables as explanatory variables in order to account for race potentially influencing the hourly wage as well as adding `unionmme` to account for union membership potentially affecting hourly wages. . Also adding interaction term between `female` and `age` as well as `unionmme` and `age`"
   ]
  },
  {
   "cell_type": "code",
   "execution_count": 36,
   "id": "f060fd21-374b-43d2-b003-aa105cb49052",
   "metadata": {
    "tags": []
   },
   "outputs": [],
   "source": [
    "# Creating regression for model 3\n",
    "reg3 = smf.ols('hrwage ~ age + agesq + female + no_degree + associate + higher_edu + black + asian + unionmme + unionmme*age + female*age', data=rnurses_iqr).fit(cov_type=\"HC1\")"
   ]
  },
  {
   "cell_type": "markdown",
   "id": "86b43e62-7fd5-47ef-a861-a13b1e7797a2",
   "metadata": {},
   "source": [
    "#### Model 4\n",
    "Adding all binary variables accounting for children as well as marital status to account for families and/or children potentially influencing wages and an interaction term between the marital status binary variables and age"
   ]
  },
  {
   "cell_type": "code",
   "execution_count": 37,
   "id": "dc051db5-e13c-456d-a1be-79d717ae2438",
   "metadata": {
    "tags": []
   },
   "outputs": [],
   "source": [
    "# Creating regression for model 4\n",
    "reg4 = smf.ols('hrwage ~ age + agesq + female + no_degree + associate + higher_edu + black + asian + unionmme + unionmme*age +female*age +\\\n",
    "                one_child + two_child + three_plus_child + never_married + now_single + never_married*age + now_single*age', data=rnurses_iqr).fit(cov_type=\"HC1\")"
   ]
  },
  {
   "cell_type": "markdown",
   "id": "d613240e-2d06-4c1f-80df-46355a38e944",
   "metadata": {},
   "source": [
    "### Stargazer Results\n",
    "Viewing results of stargazer for all regressions"
   ]
  },
  {
   "cell_type": "code",
   "execution_count": 43,
   "id": "6effd306-cb6d-4170-b823-c551a6cdcdba",
   "metadata": {
    "tags": []
   },
   "outputs": [
    {
     "data": {
      "text/html": [
       "<table style=\"text-align:center\"><tr><td colspan=\"5\" style=\"border-bottom: 1px solid black\"></td></tr>\n",
       "<tr><td style=\"text-align:left\"></td><td colspan=\"4\"><em>Dependent variable: hrwage</em></td></tr><tr><td style=\"text-align:left\"></td><tr><td style=\"text-align:left\"></td><td>(1)</td><td>(2)</td><td>(3)</td><td>(4)</td></tr>\n",
       "<tr><td colspan=\"5\" style=\"border-bottom: 1px solid black\"></td></tr>\n",
       "\n",
       "<tr><td style=\"text-align:left\">Constant</td><td>9.028<sup>***</sup></td><td>9.521<sup>***</sup></td><td>10.266<sup>***</sup></td><td>14.367<sup>***</sup></td></tr>\n",
       "<tr><td style=\"text-align:left\"></td><td>(2.683)</td><td>(2.579)</td><td>(3.172)</td><td>(3.658)</td></tr>\n",
       "<tr><td style=\"text-align:left\">age</td><td>0.838<sup>***</sup></td><td>0.886<sup>***</sup></td><td>0.843<sup>***</sup></td><td>0.680<sup>***</sup></td></tr>\n",
       "<tr><td style=\"text-align:left\"></td><td>(0.131)</td><td>(0.127)</td><td>(0.133)</td><td>(0.158)</td></tr>\n",
       "<tr><td style=\"text-align:left\">agesq</td><td>-0.008<sup>***</sup></td><td>-0.008<sup>***</sup></td><td>-0.008<sup>***</sup></td><td>-0.006<sup>***</sup></td></tr>\n",
       "<tr><td style=\"text-align:left\"></td><td>(0.002)</td><td>(0.002)</td><td>(0.001)</td><td>(0.002)</td></tr>\n",
       "<tr><td style=\"text-align:left\">female</td><td>-1.269<sup>**</sup></td><td>-1.097<sup>*</sup></td><td>-2.145<sup></sup></td><td>-2.521<sup></sup></td></tr>\n",
       "<tr><td style=\"text-align:left\"></td><td>(0.642)</td><td>(0.634)</td><td>(2.272)</td><td>(2.257)</td></tr>\n",
       "<tr><td style=\"text-align:left\">female:age</td><td></td><td></td><td>0.025<sup></sup></td><td>0.033<sup></sup></td></tr>\n",
       "<tr><td style=\"text-align:left\"></td><td></td><td></td><td>(0.054)</td><td>(0.054)</td></tr>\n",
       "<tr><td style=\"text-align:left\">no_degree</td><td></td><td>-8.919<sup>***</sup></td><td>-8.283<sup>***</sup></td><td>-8.025<sup>***</sup></td></tr>\n",
       "<tr><td style=\"text-align:left\"></td><td></td><td>(0.961)</td><td>(0.948)</td><td>(0.950)</td></tr>\n",
       "<tr><td style=\"text-align:left\">associate</td><td></td><td>-5.202<sup>***</sup></td><td>-4.764<sup>***</sup></td><td>-4.679<sup>***</sup></td></tr>\n",
       "<tr><td style=\"text-align:left\"></td><td></td><td>(0.414)</td><td>(0.408)</td><td>(0.411)</td></tr>\n",
       "<tr><td style=\"text-align:left\">higher_edu</td><td></td><td>-0.013<sup></sup></td><td>-0.121<sup></sup></td><td>-0.022<sup></sup></td></tr>\n",
       "<tr><td style=\"text-align:left\"></td><td></td><td>(0.671)</td><td>(0.682)</td><td>(0.679)</td></tr>\n",
       "<tr><td style=\"text-align:left\">black</td><td></td><td></td><td>-4.503<sup>***</sup></td><td>-4.534<sup>***</sup></td></tr>\n",
       "<tr><td style=\"text-align:left\"></td><td></td><td></td><td>(0.658)</td><td>(0.658)</td></tr>\n",
       "<tr><td style=\"text-align:left\">asian</td><td></td><td></td><td>2.490<sup>***</sup></td><td>2.481<sup>***</sup></td></tr>\n",
       "<tr><td style=\"text-align:left\"></td><td></td><td></td><td>(0.808)</td><td>(0.812)</td></tr>\n",
       "<tr><td style=\"text-align:left\">unionmme</td><td></td><td></td><td>5.601<sup>***</sup></td><td>6.052<sup>***</sup></td></tr>\n",
       "<tr><td style=\"text-align:left\"></td><td></td><td></td><td>(2.080)</td><td>(2.092)</td></tr>\n",
       "<tr><td style=\"text-align:left\">unionmme:age</td><td></td><td></td><td>-0.036<sup></sup></td><td>-0.048<sup></sup></td></tr>\n",
       "<tr><td style=\"text-align:left\"></td><td></td><td></td><td>(0.048)</td><td>(0.048)</td></tr>\n",
       "<tr><td style=\"text-align:left\">Children: 1</td><td></td><td></td><td></td><td>0.258<sup></sup></td></tr>\n",
       "<tr><td style=\"text-align:left\"></td><td></td><td></td><td></td><td>(0.557)</td></tr>\n",
       "<tr><td style=\"text-align:left\">Children: 2</td><td></td><td></td><td></td><td>0.541<sup></sup></td></tr>\n",
       "<tr><td style=\"text-align:left\"></td><td></td><td></td><td></td><td>(0.574)</td></tr>\n",
       "<tr><td style=\"text-align:left\">Children: 3+</td><td></td><td></td><td></td><td>0.115<sup></sup></td></tr>\n",
       "<tr><td style=\"text-align:left\"></td><td></td><td></td><td></td><td>(0.680)</td></tr>\n",
       "<tr><td style=\"text-align:left\">never_married</td><td></td><td></td><td></td><td>-5.823<sup>***</sup></td></tr>\n",
       "<tr><td style=\"text-align:left\"></td><td></td><td></td><td></td><td>(1.786)</td></tr>\n",
       "<tr><td style=\"text-align:left\">never_married:age</td><td></td><td></td><td></td><td>0.165<sup>***</sup></td></tr>\n",
       "<tr><td style=\"text-align:left\"></td><td></td><td></td><td></td><td>(0.050)</td></tr>\n",
       "<tr><td style=\"text-align:left\">now_single</td><td></td><td></td><td></td><td>-4.234<sup>*</sup></td></tr>\n",
       "<tr><td style=\"text-align:left\"></td><td></td><td></td><td></td><td>(2.213)</td></tr>\n",
       "<tr><td style=\"text-align:left\">now_single:age</td><td></td><td></td><td></td><td>0.079<sup></sup></td></tr>\n",
       "<tr><td style=\"text-align:left\"></td><td></td><td></td><td></td><td>(0.049)</td></tr>\n",
       "\n",
       "<td colspan=\"5\" style=\"border-bottom: 1px solid black\"></td></tr>\n",
       "<tr><td style=\"text-align: left\">Observations</td><td>3341</td><td>3341</td><td>3341</td><td>3341</td></tr><tr><td style=\"text-align: left\">R<sup>2</sup></td><td>0.042</td><td>0.103</td><td>0.139</td><td>0.144</td></tr><tr><td style=\"text-align: left\">Adjusted R<sup>2</sup></td><td>0.041</td><td>0.102</td><td>0.136</td><td>0.139</td></tr><tr><td style=\"text-align: left\">Residual Std. Error</td><td>11.098 (df=3337)</td><td>10.743 (df=3334)</td><td>10.532 (df=3329)</td><td>10.516 (df=3322)</td></tr><tr><td style=\"text-align: left\">F Statistic</td><td>61.606<sup>***</sup> (df=3; 3337)</td><td>69.130<sup>***</sup> (df=6; 3334)</td><td>52.747<sup>***</sup> (df=11; 3329)</td><td>33.547<sup>***</sup> (df=18; 3322)</td></tr>\n",
       "<tr><td style=\"text-align: left\">RMSE</td><td>11.091</td><td>10.732</td><td>10.514</td><td>10.486</td></tr><tr><td style=\"text-align: left\">BIC</td><td>25591.75</td><td>25395.88</td><td>25299.21</td><td>25338.21</td></tr><tr><td colspan=\"5\" style=\"border-bottom: 1px solid black\"></td></tr><tr><td style=\"text-align: left\">Note:</td><td colspan=\"4\" style=\"text-align: right\"><sup>*</sup>p&lt;0.1; <sup>**</sup>p&lt;0.05; <sup>***</sup>p&lt;0.01</td></tr></table>"
      ],
      "text/plain": [
       "<stargazer.stargazer.Stargazer at 0x19a5780e950>"
      ]
     },
     "execution_count": 43,
     "metadata": {},
     "output_type": "execute_result"
    }
   ],
   "source": [
    "# Viewing regression results with stargazer\n",
    "sg = stargazer.Stargazer([reg1, reg2, reg3, reg4])\n",
    "\n",
    "sg.covariate_order(['Intercept', 'age', 'agesq', 'female', 'female:age', 'no_degree', 'associate', 'higher_edu', 'black', 'asian', 'unionmme', 'unionmme:age', \n",
    "                           'one_child', 'two_child', 'three_plus_child', 'never_married', 'never_married:age', 'now_single', 'now_single:age'])\n",
    "sg.rename_covariates({'one_child': 'Children: 1', 'two_child': 'Children: 2', \n",
    "                             'three_plus_child': 'Children: 3+', 'Intercept': 'Constant'})\n",
    "\n",
    "# Adding RMSE for measurement in the full sample for each model\n",
    "rmse_values = [round(rmse(x.fittedvalues, rnurses_iqr.hrwage), 3) for x in [reg1, reg2, reg3, reg4]]\n",
    "sg.add_line('RMSE', rmse_values, location=stargazer.LineLocation.FOOTER_BOTTOM)\n",
    "\n",
    "# Adding BIC for measurement in the full sample for each model\n",
    "bic = [round(x.bic, 2) for x in [reg1, reg2, reg3, reg4]]\n",
    "sg.add_line('BIC', bic, location=stargazer.LineLocation.FOOTER_BOTTOM)\n",
    "\n",
    "sg"
   ]
  },
  {
   "cell_type": "code",
   "execution_count": null,
   "id": "b273af80-5542-4515-9b83-a7398dec2c59",
   "metadata": {},
   "outputs": [],
   "source": []
  }
 ],
 "metadata": {
  "kernelspec": {
   "display_name": "Python 3 (ipykernel)",
   "language": "python",
   "name": "python3"
  },
  "language_info": {
   "codemirror_mode": {
    "name": "ipython",
    "version": 3
   },
   "file_extension": ".py",
   "mimetype": "text/x-python",
   "name": "python",
   "nbconvert_exporter": "python",
   "pygments_lexer": "ipython3",
   "version": "3.11.5"
  }
 },
 "nbformat": 4,
 "nbformat_minor": 5
}
